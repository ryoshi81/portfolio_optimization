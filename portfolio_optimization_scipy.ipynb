{
 "cells": [
  {
   "cell_type": "markdown",
   "metadata": {},
   "source": [
    "# Scipyで２次計画問題を解く〜ポートフォリオ最適化の例〜"
   ]
  },
  {
   "cell_type": "markdown",
   "metadata": {},
   "source": [
    "２次計画問題はScipyのオプティマイザーのメソッド'SLSQP'で解くことができます．\n",
    "\n",
    "今回は，ポートフォリオ最適化を例にして，Scipyで２次計画問題を実装してみます．\n",
    "\n",
    "https://docs.scipy.org/doc/scipy-0.19.1/reference/generated/scipy.optimize.minimize.html"
   ]
  },
  {
   "cell_type": "markdown",
   "metadata": {},
   "source": [
    "## 準備"
   ]
  },
  {
   "cell_type": "markdown",
   "metadata": {},
   "source": [
    "はじめに今回用いるライブラリをインポートしておきます．"
   ]
  },
  {
   "cell_type": "code",
   "execution_count": 1,
   "metadata": {
    "collapsed": true
   },
   "outputs": [],
   "source": [
    "import numpy as np\n",
    "import pandas as pd\n",
    "import pandas_datareader.data as pdr\n",
    "import matplotlib.pyplot as plt\n",
    "%matplotlib inline"
   ]
  },
  {
   "cell_type": "markdown",
   "metadata": {},
   "source": [
    "今回の例では，Kenneth R. French教授のData Libraryの30業種ポートフォリオのデータを用います．\n",
    "\n",
    "http://mba.tuck.dartmouth.edu/pages/faculty/ken.french/data_library.html"
   ]
  },
  {
   "cell_type": "code",
   "execution_count": 2,
   "metadata": {
    "collapsed": false
   },
   "outputs": [
    {
     "data": {
      "text/html": [
       "<div>\n",
       "<style>\n",
       "    .dataframe thead tr:only-child th {\n",
       "        text-align: right;\n",
       "    }\n",
       "\n",
       "    .dataframe thead th {\n",
       "        text-align: left;\n",
       "    }\n",
       "\n",
       "    .dataframe tbody tr th {\n",
       "        vertical-align: top;\n",
       "    }\n",
       "</style>\n",
       "<table border=\"1\" class=\"dataframe\">\n",
       "  <thead>\n",
       "    <tr style=\"text-align: right;\">\n",
       "      <th></th>\n",
       "      <th>Food</th>\n",
       "      <th>Beer</th>\n",
       "      <th>Smoke</th>\n",
       "      <th>Games</th>\n",
       "      <th>Books</th>\n",
       "      <th>Hshld</th>\n",
       "      <th>Clths</th>\n",
       "      <th>Hlth</th>\n",
       "      <th>Chems</th>\n",
       "      <th>Txtls</th>\n",
       "      <th>...</th>\n",
       "      <th>Telcm</th>\n",
       "      <th>Servs</th>\n",
       "      <th>BusEq</th>\n",
       "      <th>Paper</th>\n",
       "      <th>Trans</th>\n",
       "      <th>Whlsl</th>\n",
       "      <th>Rtail</th>\n",
       "      <th>Meals</th>\n",
       "      <th>Fin</th>\n",
       "      <th>Other</th>\n",
       "    </tr>\n",
       "    <tr>\n",
       "      <th>Date</th>\n",
       "      <th></th>\n",
       "      <th></th>\n",
       "      <th></th>\n",
       "      <th></th>\n",
       "      <th></th>\n",
       "      <th></th>\n",
       "      <th></th>\n",
       "      <th></th>\n",
       "      <th></th>\n",
       "      <th></th>\n",
       "      <th></th>\n",
       "      <th></th>\n",
       "      <th></th>\n",
       "      <th></th>\n",
       "      <th></th>\n",
       "      <th></th>\n",
       "      <th></th>\n",
       "      <th></th>\n",
       "      <th></th>\n",
       "      <th></th>\n",
       "      <th></th>\n",
       "    </tr>\n",
       "  </thead>\n",
       "  <tbody>\n",
       "    <tr>\n",
       "      <th>2010-01</th>\n",
       "      <td>-0.92</td>\n",
       "      <td>-3.70</td>\n",
       "      <td>-3.15</td>\n",
       "      <td>1.12</td>\n",
       "      <td>1.23</td>\n",
       "      <td>0.85</td>\n",
       "      <td>-3.11</td>\n",
       "      <td>0.00</td>\n",
       "      <td>-4.04</td>\n",
       "      <td>-8.66</td>\n",
       "      <td>...</td>\n",
       "      <td>-6.84</td>\n",
       "      <td>-7.10</td>\n",
       "      <td>-7.88</td>\n",
       "      <td>-5.49</td>\n",
       "      <td>-4.04</td>\n",
       "      <td>-2.55</td>\n",
       "      <td>-1.92</td>\n",
       "      <td>-0.98</td>\n",
       "      <td>-1.18</td>\n",
       "      <td>2.24</td>\n",
       "    </tr>\n",
       "    <tr>\n",
       "      <th>2010-02</th>\n",
       "      <td>2.92</td>\n",
       "      <td>0.25</td>\n",
       "      <td>5.00</td>\n",
       "      <td>6.02</td>\n",
       "      <td>-1.78</td>\n",
       "      <td>3.69</td>\n",
       "      <td>6.07</td>\n",
       "      <td>0.37</td>\n",
       "      <td>5.46</td>\n",
       "      <td>15.68</td>\n",
       "      <td>...</td>\n",
       "      <td>2.92</td>\n",
       "      <td>2.84</td>\n",
       "      <td>6.30</td>\n",
       "      <td>3.05</td>\n",
       "      <td>7.25</td>\n",
       "      <td>5.89</td>\n",
       "      <td>4.32</td>\n",
       "      <td>4.50</td>\n",
       "      <td>2.71</td>\n",
       "      <td>1.87</td>\n",
       "    </tr>\n",
       "    <tr>\n",
       "      <th>2010-03</th>\n",
       "      <td>4.44</td>\n",
       "      <td>6.11</td>\n",
       "      <td>6.36</td>\n",
       "      <td>12.06</td>\n",
       "      <td>5.53</td>\n",
       "      <td>2.13</td>\n",
       "      <td>11.39</td>\n",
       "      <td>3.61</td>\n",
       "      <td>7.34</td>\n",
       "      <td>8.42</td>\n",
       "      <td>...</td>\n",
       "      <td>7.88</td>\n",
       "      <td>5.22</td>\n",
       "      <td>8.13</td>\n",
       "      <td>5.86</td>\n",
       "      <td>8.11</td>\n",
       "      <td>5.99</td>\n",
       "      <td>6.14</td>\n",
       "      <td>8.27</td>\n",
       "      <td>8.14</td>\n",
       "      <td>9.07</td>\n",
       "    </tr>\n",
       "    <tr>\n",
       "      <th>2010-04</th>\n",
       "      <td>-1.46</td>\n",
       "      <td>-1.76</td>\n",
       "      <td>-3.03</td>\n",
       "      <td>10.96</td>\n",
       "      <td>2.32</td>\n",
       "      <td>1.21</td>\n",
       "      <td>4.23</td>\n",
       "      <td>-2.22</td>\n",
       "      <td>3.08</td>\n",
       "      <td>11.43</td>\n",
       "      <td>...</td>\n",
       "      <td>3.82</td>\n",
       "      <td>0.46</td>\n",
       "      <td>3.89</td>\n",
       "      <td>4.21</td>\n",
       "      <td>3.82</td>\n",
       "      <td>3.20</td>\n",
       "      <td>1.85</td>\n",
       "      <td>7.31</td>\n",
       "      <td>0.95</td>\n",
       "      <td>3.86</td>\n",
       "    </tr>\n",
       "    <tr>\n",
       "      <th>2010-05</th>\n",
       "      <td>-5.37</td>\n",
       "      <td>-3.88</td>\n",
       "      <td>-7.71</td>\n",
       "      <td>-7.05</td>\n",
       "      <td>-10.12</td>\n",
       "      <td>-4.35</td>\n",
       "      <td>-5.67</td>\n",
       "      <td>-8.01</td>\n",
       "      <td>-9.99</td>\n",
       "      <td>-9.87</td>\n",
       "      <td>...</td>\n",
       "      <td>-5.91</td>\n",
       "      <td>-8.31</td>\n",
       "      <td>-7.07</td>\n",
       "      <td>-8.89</td>\n",
       "      <td>-5.98</td>\n",
       "      <td>-4.01</td>\n",
       "      <td>-5.83</td>\n",
       "      <td>-4.76</td>\n",
       "      <td>-9.12</td>\n",
       "      <td>-10.05</td>\n",
       "    </tr>\n",
       "    <tr>\n",
       "      <th>2010-06</th>\n",
       "      <td>-1.97</td>\n",
       "      <td>-1.63</td>\n",
       "      <td>3.54</td>\n",
       "      <td>-8.80</td>\n",
       "      <td>-8.70</td>\n",
       "      <td>-3.24</td>\n",
       "      <td>-9.31</td>\n",
       "      <td>-1.63</td>\n",
       "      <td>-7.79</td>\n",
       "      <td>-14.55</td>\n",
       "      <td>...</td>\n",
       "      <td>-4.33</td>\n",
       "      <td>-6.78</td>\n",
       "      <td>-5.99</td>\n",
       "      <td>-2.30</td>\n",
       "      <td>-7.66</td>\n",
       "      <td>-5.20</td>\n",
       "      <td>-10.56</td>\n",
       "      <td>-5.21</td>\n",
       "      <td>-7.31</td>\n",
       "      <td>-7.58</td>\n",
       "    </tr>\n",
       "    <tr>\n",
       "      <th>2010-07</th>\n",
       "      <td>5.04</td>\n",
       "      <td>8.37</td>\n",
       "      <td>11.12</td>\n",
       "      <td>7.85</td>\n",
       "      <td>5.29</td>\n",
       "      <td>4.22</td>\n",
       "      <td>8.34</td>\n",
       "      <td>2.15</td>\n",
       "      <td>14.24</td>\n",
       "      <td>6.81</td>\n",
       "      <td>...</td>\n",
       "      <td>9.74</td>\n",
       "      <td>8.23</td>\n",
       "      <td>6.82</td>\n",
       "      <td>7.64</td>\n",
       "      <td>10.84</td>\n",
       "      <td>3.20</td>\n",
       "      <td>4.65</td>\n",
       "      <td>6.90</td>\n",
       "      <td>6.62</td>\n",
       "      <td>8.03</td>\n",
       "    </tr>\n",
       "    <tr>\n",
       "      <th>2010-08</th>\n",
       "      <td>-0.46</td>\n",
       "      <td>-0.01</td>\n",
       "      <td>-0.05</td>\n",
       "      <td>-1.32</td>\n",
       "      <td>-10.04</td>\n",
       "      <td>-3.96</td>\n",
       "      <td>-7.41</td>\n",
       "      <td>-1.66</td>\n",
       "      <td>-0.11</td>\n",
       "      <td>-5.50</td>\n",
       "      <td>...</td>\n",
       "      <td>-2.23</td>\n",
       "      <td>-5.26</td>\n",
       "      <td>-8.21</td>\n",
       "      <td>-6.06</td>\n",
       "      <td>-4.65</td>\n",
       "      <td>-7.55</td>\n",
       "      <td>-4.18</td>\n",
       "      <td>0.46</td>\n",
       "      <td>-8.38</td>\n",
       "      <td>-7.12</td>\n",
       "    </tr>\n",
       "    <tr>\n",
       "      <th>2010-09</th>\n",
       "      <td>1.57</td>\n",
       "      <td>4.95</td>\n",
       "      <td>10.04</td>\n",
       "      <td>14.16</td>\n",
       "      <td>12.91</td>\n",
       "      <td>3.98</td>\n",
       "      <td>17.54</td>\n",
       "      <td>9.00</td>\n",
       "      <td>9.96</td>\n",
       "      <td>13.39</td>\n",
       "      <td>...</td>\n",
       "      <td>7.87</td>\n",
       "      <td>11.62</td>\n",
       "      <td>13.48</td>\n",
       "      <td>9.16</td>\n",
       "      <td>9.87</td>\n",
       "      <td>9.90</td>\n",
       "      <td>13.59</td>\n",
       "      <td>7.06</td>\n",
       "      <td>7.46</td>\n",
       "      <td>10.01</td>\n",
       "    </tr>\n",
       "    <tr>\n",
       "      <th>2010-10</th>\n",
       "      <td>5.86</td>\n",
       "      <td>1.93</td>\n",
       "      <td>5.27</td>\n",
       "      <td>12.57</td>\n",
       "      <td>7.13</td>\n",
       "      <td>4.51</td>\n",
       "      <td>3.34</td>\n",
       "      <td>2.00</td>\n",
       "      <td>8.18</td>\n",
       "      <td>3.28</td>\n",
       "      <td>...</td>\n",
       "      <td>4.80</td>\n",
       "      <td>8.01</td>\n",
       "      <td>4.14</td>\n",
       "      <td>3.49</td>\n",
       "      <td>5.35</td>\n",
       "      <td>4.95</td>\n",
       "      <td>1.32</td>\n",
       "      <td>6.04</td>\n",
       "      <td>1.97</td>\n",
       "      <td>-0.11</td>\n",
       "    </tr>\n",
       "  </tbody>\n",
       "</table>\n",
       "<p>10 rows × 30 columns</p>\n",
       "</div>"
      ],
      "text/plain": [
       "         Food   Beer   Smoke  Games  Books  Hshld  Clths  Hlth   Chems  Txtls  \\\n",
       "Date                                                                            \n",
       "2010-01  -0.92  -3.70  -3.15   1.12   1.23   0.85  -3.11   0.00  -4.04  -8.66   \n",
       "2010-02   2.92   0.25   5.00   6.02  -1.78   3.69   6.07   0.37   5.46  15.68   \n",
       "2010-03   4.44   6.11   6.36  12.06   5.53   2.13  11.39   3.61   7.34   8.42   \n",
       "2010-04  -1.46  -1.76  -3.03  10.96   2.32   1.21   4.23  -2.22   3.08  11.43   \n",
       "2010-05  -5.37  -3.88  -7.71  -7.05 -10.12  -4.35  -5.67  -8.01  -9.99  -9.87   \n",
       "2010-06  -1.97  -1.63   3.54  -8.80  -8.70  -3.24  -9.31  -1.63  -7.79 -14.55   \n",
       "2010-07   5.04   8.37  11.12   7.85   5.29   4.22   8.34   2.15  14.24   6.81   \n",
       "2010-08  -0.46  -0.01  -0.05  -1.32 -10.04  -3.96  -7.41  -1.66  -0.11  -5.50   \n",
       "2010-09   1.57   4.95  10.04  14.16  12.91   3.98  17.54   9.00   9.96  13.39   \n",
       "2010-10   5.86   1.93   5.27  12.57   7.13   4.51   3.34   2.00   8.18   3.28   \n",
       "\n",
       "         ...    Telcm  Servs  BusEq  Paper  Trans  Whlsl  Rtail  Meals  Fin    \\\n",
       "Date     ...                                                                    \n",
       "2010-01  ...    -6.84  -7.10  -7.88  -5.49  -4.04  -2.55  -1.92  -0.98  -1.18   \n",
       "2010-02  ...     2.92   2.84   6.30   3.05   7.25   5.89   4.32   4.50   2.71   \n",
       "2010-03  ...     7.88   5.22   8.13   5.86   8.11   5.99   6.14   8.27   8.14   \n",
       "2010-04  ...     3.82   0.46   3.89   4.21   3.82   3.20   1.85   7.31   0.95   \n",
       "2010-05  ...    -5.91  -8.31  -7.07  -8.89  -5.98  -4.01  -5.83  -4.76  -9.12   \n",
       "2010-06  ...    -4.33  -6.78  -5.99  -2.30  -7.66  -5.20 -10.56  -5.21  -7.31   \n",
       "2010-07  ...     9.74   8.23   6.82   7.64  10.84   3.20   4.65   6.90   6.62   \n",
       "2010-08  ...    -2.23  -5.26  -8.21  -6.06  -4.65  -7.55  -4.18   0.46  -8.38   \n",
       "2010-09  ...     7.87  11.62  13.48   9.16   9.87   9.90  13.59   7.06   7.46   \n",
       "2010-10  ...     4.80   8.01   4.14   3.49   5.35   4.95   1.32   6.04   1.97   \n",
       "\n",
       "         Other  \n",
       "Date            \n",
       "2010-01   2.24  \n",
       "2010-02   1.87  \n",
       "2010-03   9.07  \n",
       "2010-04   3.86  \n",
       "2010-05 -10.05  \n",
       "2010-06  -7.58  \n",
       "2010-07   8.03  \n",
       "2010-08  -7.12  \n",
       "2010-09  10.01  \n",
       "2010-10  -0.11  \n",
       "\n",
       "[10 rows x 30 columns]"
      ]
     },
     "execution_count": 2,
     "metadata": {},
     "output_type": "execute_result"
    }
   ],
   "source": [
    "name = '30_Industry_Portfolios'\n",
    "df_dict = pdr.DataReader(name=name, data_source='famafrench')\n",
    "df = df_dict[0]\n",
    "df.head(10)"
   ]
  },
  {
   "cell_type": "markdown",
   "metadata": {},
   "source": [
    "### 期待リターン(収益率)を計算する"
   ]
  },
  {
   "cell_type": "markdown",
   "metadata": {},
   "source": [
    "<img src=\"port_return.png\">"
   ]
  },
  {
   "cell_type": "code",
   "execution_count": 3,
   "metadata": {
    "collapsed": true
   },
   "outputs": [],
   "source": [
    "mean = df.mean()"
   ]
  },
  {
   "cell_type": "markdown",
   "metadata": {},
   "source": [
    "平均は１次元の形式（pandas.Seriesや１次元のnumpy.ndarray）にしておきます．"
   ]
  },
  {
   "cell_type": "markdown",
   "metadata": {},
   "source": [
    "### リスクを計算する"
   ]
  },
  {
   "cell_type": "markdown",
   "metadata": {},
   "source": [
    "<img src=\"port_risk.png\">"
   ]
  },
  {
   "cell_type": "code",
   "execution_count": 4,
   "metadata": {
    "collapsed": false
   },
   "outputs": [],
   "source": [
    "cov = df.cov()\n",
    "std = np.sqrt(np.diag(cov))"
   ]
  },
  {
   "cell_type": "markdown",
   "metadata": {},
   "source": [
    "### プロットする"
   ]
  },
  {
   "cell_type": "markdown",
   "metadata": {},
   "source": [
    "各資産を標準偏差と期待リターンでプロットし，シャープレシオ(リスクフリーレートは考慮しない)で色付けします．"
   ]
  },
  {
   "cell_type": "code",
   "execution_count": 5,
   "metadata": {
    "collapsed": false
   },
   "outputs": [
    {
     "data": {
      "text/plain": [
       "<matplotlib.text.Text at 0x10b8a9320>"
      ]
     },
     "execution_count": 5,
     "metadata": {},
     "output_type": "execute_result"
    },
    {
     "data": {
      "image/png": "[encoded data removed]",
      "text/plain": [
       "<matplotlib.figure.Figure at 0x1143762b0>"
      ]
     },
     "metadata": {},
     "output_type": "display_data"
    }
   ],
   "source": [
    "plt.figure(figsize=(10, 6))\n",
    "plt.scatter(std, mean, c=mean/std, marker='o')\n",
    "plt.grid(True)\n",
    "plt.xlabel('expected volatility')\n",
    "plt.ylabel('expected return')"
   ]
  },
  {
   "cell_type": "markdown",
   "metadata": {},
   "source": [
    "これらの資産への最適な投資比率を決定するのが目的です．"
   ]
  },
  {
   "cell_type": "markdown",
   "metadata": {},
   "source": [
    "## SciPy Optimization で二次計画問題を解く"
   ]
  },
  {
   "cell_type": "markdown",
   "metadata": {},
   "source": [
    "### H.M.Markowitzの平均・分散モデル"
   ]
  },
  {
   "cell_type": "markdown",
   "metadata": {},
   "source": [
    "H.M.Markowitz(1952)は“Portfolio Selection”で，ポートフォリオの期待リターンが目標リターン以上になるという制約条件のもと，ポートフォリオの分散を最小化する平均・分散モデルを提案しています．"
   ]
  },
  {
   "cell_type": "markdown",
   "metadata": {},
   "source": [
    "<img src=port_qp.png>"
   ]
  },
  {
   "cell_type": "markdown",
   "metadata": {},
   "source": [
    "### scipy.optimize.minimize() を使う"
   ]
  },
  {
   "cell_type": "code",
   "execution_count": 6,
   "metadata": {
    "collapsed": true
   },
   "outputs": [],
   "source": [
    "import scipy.optimize as sco"
   ]
  },
  {
   "cell_type": "markdown",
   "metadata": {},
   "source": [
    "scipy.optimize.minimize()の主な引数は以下のものがあります．"
   ]
  },
  {
   "cell_type": "markdown",
   "metadata": {},
   "source": [
    "\n",
    "\n",
    "|parameters|内容|type|\n",
    "|:--|:--|:--|\n",
    "|fun|目的関数|関数|\n",
    "|x0|初期解|ndarray などシーケンス|\n",
    "|method|ソルバー|'SLSQP':逐次最小二乗法|\n",
    "|bounds|上下限制約|tupleのシーケンス|\n",
    "|constraints|制約条件|dict または dictのシーケンス|\n"
   ]
  },
  {
   "cell_type": "markdown",
   "metadata": {},
   "source": [
    "一つずつ説明していきます．"
   ]
  },
  {
   "cell_type": "markdown",
   "metadata": {},
   "source": [
    "### 目的関数：最小化する関数を定義する"
   ]
  },
  {
   "cell_type": "markdown",
   "metadata": {},
   "source": [
    "平均・分散モデルではポートフォリオの分散を目的関数とします．\n",
    "投資比率を引数として，以下の関数を定義します．"
   ]
  },
  {
   "cell_type": "code",
   "execution_count": 7,
   "metadata": {
    "collapsed": true
   },
   "outputs": [],
   "source": [
    "def min_func_var(weights):\n",
    "    return np.dot(weights.T, np.dot(cov, weights))"
   ]
  },
  {
   "cell_type": "markdown",
   "metadata": {},
   "source": [
    "### 初期解"
   ]
  },
  {
   "cell_type": "markdown",
   "metadata": {},
   "source": [
    "初期解を設定します．今回は資産数$n$とし，各資産への投資比率が$\\frac{1}{n}$となるように資産数分の初期解をリストとして生成します．"
   ]
  },
  {
   "cell_type": "code",
   "execution_count": 8,
   "metadata": {
    "collapsed": false
   },
   "outputs": [],
   "source": [
    "x0 = [1. / len(mean)] * len(mean)"
   ]
  },
  {
   "cell_type": "markdown",
   "metadata": {},
   "source": [
    "### 目標リターン：自分で決める"
   ]
  },
  {
   "cell_type": "markdown",
   "metadata": {},
   "source": [
    "目標リターンを設定します．\n",
    "目標リターンは，投資家が恣意的に決めますが，今回は個々の資産の期待リターンの水準を参考に決めます．"
   ]
  },
  {
   "cell_type": "code",
   "execution_count": 9,
   "metadata": {
    "collapsed": false
   },
   "outputs": [],
   "source": [
    "tret = mean.mean()  # e.g.: tret = 0.5"
   ]
  },
  {
   "cell_type": "markdown",
   "metadata": {},
   "source": [
    "### 制約条件"
   ]
  },
  {
   "cell_type": "markdown",
   "metadata": {},
   "source": [
    "制約条件は等式制約と不等式制約があります．：\n",
    "- 'type'に'eq'を指定すると等式制約で，'fun'に左辺=0となる関数を定義します．\n",
    "- 'type'に'ineq'を指定すると不等式制約で，'fun'は左辺>=0となる関数を定義します\n",
    "<br>\n",
    "\n",
    "平均・分散モデルでは等式制約として投資比率の和が１となる制約，不等式制約としてポートフォリオのリターンが目標リターン以上となる制約を加えます．"
   ]
  },
  {
   "cell_type": "code",
   "execution_count": 10,
   "metadata": {
    "collapsed": false
   },
   "outputs": [],
   "source": [
    "cons = [{'type': 'eq', 'fun': lambda x: np.sum(x) - 1}, \n",
    "        {'type': 'ineq', 'fun': lambda x: np.sum(mean * x) - tret}]"
   ]
  },
  {
   "cell_type": "markdown",
   "metadata": {},
   "source": [
    "### 上下限制約"
   ]
  },
  {
   "cell_type": "markdown",
   "metadata": {},
   "source": [
    "上下限制約：各決定変数の(最小，最大)の組を決定変数の数分並べたシーケンスとして定義します．\n",
    "\n",
    "通常，空売り禁止制約として下限０を設定します．"
   ]
  },
  {
   "cell_type": "code",
   "execution_count": 11,
   "metadata": {
    "collapsed": false
   },
   "outputs": [],
   "source": [
    "bnds = [(0, None)] * len(mean)"
   ]
  },
  {
   "cell_type": "markdown",
   "metadata": {},
   "source": [
    "### 最適化"
   ]
  },
  {
   "cell_type": "markdown",
   "metadata": {},
   "source": [
    "最適化を実行します．"
   ]
  },
  {
   "cell_type": "code",
   "execution_count": 12,
   "metadata": {
    "collapsed": false
   },
   "outputs": [
    {
     "name": "stdout",
     "output_type": "stream",
     "text": [
      "CPU times: user 64.7 ms, sys: 1.99 ms, total: 66.7 ms\n",
      "Wall time: 65.8 ms\n"
     ]
    }
   ],
   "source": [
    "%%time\n",
    "opts = sco.minimize(fun=min_func_var, x0=x0, method='SLSQP', bounds=bnds, constraints=cons)"
   ]
  },
  {
   "cell_type": "raw",
   "metadata": {},
   "source": [
    "最適化の結果を確認します．"
   ]
  },
  {
   "cell_type": "code",
   "execution_count": 13,
   "metadata": {
    "collapsed": false
   },
   "outputs": [
    {
     "data": {
      "text/plain": [
       "     fun: 6.4382200570155153\n",
       "     jac: array([ 12.86967444,  12.88338792,  17.07558435,  16.22200376,\n",
       "        16.85564399,  12.86223888,  12.91390479,  12.88969362,\n",
       "        17.00302589,  18.76555657,  17.04112363,  18.64207184,\n",
       "        17.00152731,  16.5060941 ,  16.78500116,  14.17968714,\n",
       "        13.70201218,  16.07571757,  14.00374794,  12.86757839,\n",
       "        14.81756985,  14.18152452,  15.26657546,  16.06373262,\n",
       "        14.38778698,  13.2118395 ,  13.79812872,  12.89780128,\n",
       "        13.23550874,  13.95237762,   0.        ])\n",
       " message: 'Optimization terminated successfully.'\n",
       "    nfev: 293\n",
       "     nit: 9\n",
       "    njev: 9\n",
       "  status: 0\n",
       " success: True\n",
       "       x: array([  8.09082690e-02,   1.81076080e-01,   0.00000000e+00,\n",
       "         0.00000000e+00,   0.00000000e+00,   2.23625879e-01,\n",
       "         5.29605656e-14,   4.31335643e-02,   0.00000000e+00,\n",
       "         0.00000000e+00,   0.00000000e+00,   0.00000000e+00,\n",
       "         0.00000000e+00,   0.00000000e+00,   0.00000000e+00,\n",
       "         1.87447714e-14,   6.68065863e-14,   4.68453401e-14,\n",
       "         3.45044089e-14,   2.70424480e-01,   0.00000000e+00,\n",
       "         1.36019668e-14,   0.00000000e+00,   0.00000000e+00,\n",
       "         1.52070197e-14,   4.56967363e-14,   1.35369146e-14,\n",
       "         2.00831727e-01,   5.60252799e-14,   1.37926779e-14])"
      ]
     },
     "execution_count": 13,
     "metadata": {},
     "output_type": "execute_result"
    }
   ],
   "source": [
    "opts"
   ]
  },
  {
   "cell_type": "markdown",
   "metadata": {},
   "source": [
    "最適解と最適値をそれぞれ取り出します．"
   ]
  },
  {
   "cell_type": "markdown",
   "metadata": {},
   "source": [
    "|Returns|内容|\n",
    "|:--|:--|\n",
    "|x|最適解|\n",
    "|fun|最適値|\n",
    "|success|最適化に成功したか|\n"
   ]
  },
  {
   "cell_type": "code",
   "execution_count": 14,
   "metadata": {
    "collapsed": false
   },
   "outputs": [
    {
     "data": {
      "text/plain": [
       "array([  8.09082690e-02,   1.81076080e-01,   0.00000000e+00,\n",
       "         0.00000000e+00,   0.00000000e+00,   2.23625879e-01,\n",
       "         5.29605656e-14,   4.31335643e-02,   0.00000000e+00,\n",
       "         0.00000000e+00,   0.00000000e+00,   0.00000000e+00,\n",
       "         0.00000000e+00,   0.00000000e+00,   0.00000000e+00,\n",
       "         1.87447714e-14,   6.68065863e-14,   4.68453401e-14,\n",
       "         3.45044089e-14,   2.70424480e-01,   0.00000000e+00,\n",
       "         1.36019668e-14,   0.00000000e+00,   0.00000000e+00,\n",
       "         1.52070197e-14,   4.56967363e-14,   1.35369146e-14,\n",
       "         2.00831727e-01,   5.60252799e-14,   1.37926779e-14])"
      ]
     },
     "execution_count": 14,
     "metadata": {},
     "output_type": "execute_result"
    }
   ],
   "source": [
    "opts['x']"
   ]
  },
  {
   "cell_type": "code",
   "execution_count": 15,
   "metadata": {
    "collapsed": false
   },
   "outputs": [
    {
     "data": {
      "text/plain": [
       "6.4382200570155153"
      ]
     },
     "execution_count": 15,
     "metadata": {},
     "output_type": "execute_result"
    }
   ],
   "source": [
    "opts['fun']"
   ]
  },
  {
   "cell_type": "code",
   "execution_count": 16,
   "metadata": {
    "collapsed": false
   },
   "outputs": [
    {
     "data": {
      "text/plain": [
       "True"
      ]
     },
     "execution_count": 16,
     "metadata": {},
     "output_type": "execute_result"
    }
   ],
   "source": [
    "opts['success']"
   ]
  },
  {
   "cell_type": "markdown",
   "metadata": {},
   "source": [
    "### 効率的フロンティアを描く"
   ]
  },
  {
   "cell_type": "markdown",
   "metadata": {},
   "source": [
    "<img src='port_frontier.png'>"
   ]
  },
  {
   "cell_type": "markdown",
   "metadata": {},
   "source": [
    "目標リターンを複数パターン作ります．"
   ]
  },
  {
   "cell_type": "code",
   "execution_count": 17,
   "metadata": {
    "collapsed": false
   },
   "outputs": [],
   "source": [
    "mean_high = mean.max().round(3)\n",
    "mean_low = round(mean.quantile(0.25), 3)"
   ]
  },
  {
   "cell_type": "code",
   "execution_count": 18,
   "metadata": {
    "collapsed": false
   },
   "outputs": [],
   "source": [
    "trets = np.linspace(mean_low, mean_high, 50)"
   ]
  },
  {
   "cell_type": "markdown",
   "metadata": {},
   "source": [
    "各目標リターンについて，最適化を実行します．"
   ]
  },
  {
   "cell_type": "code",
   "execution_count": 19,
   "metadata": {
    "collapsed": false
   },
   "outputs": [
    {
     "name": "stdout",
     "output_type": "stream",
     "text": [
      "CPU times: user 2 µs, sys: 1e+03 ns, total: 3 µs\n",
      "Wall time: 6.2 µs\n"
     ]
    }
   ],
   "source": [
    "%time\n",
    "tvols = []\n",
    "for tret in trets:\n",
    "    cons = [{'type': 'eq', 'fun': lambda x: np.sum(x) - 1}, \n",
    "            {'type': 'ineq', 'fun': lambda x: np.sum(mean * x) - tret}]\n",
    "    res = sco.minimize(fun=min_func_var, x0=x0, method='SLSQP', bounds=bnds, constraints=cons)\n",
    "    tvols.append(res['fun'])\n",
    "tvols = np.array(tvols)"
   ]
  },
  {
   "cell_type": "markdown",
   "metadata": {},
   "source": [
    "効率的フロンティアを描きます．"
   ]
  },
  {
   "cell_type": "code",
   "execution_count": 20,
   "metadata": {
    "collapsed": false
   },
   "outputs": [
    {
     "data": {
      "text/plain": [
       "<matplotlib.text.Text at 0x116f49c88>"
      ]
     },
     "execution_count": 20,
     "metadata": {},
     "output_type": "execute_result"
    },
    {
     "data": {
      "image/png": "[encoded data removed]",
      "text/plain": [
       "<matplotlib.figure.Figure at 0x116f06048>"
      ]
     },
     "metadata": {},
     "output_type": "display_data"
    }
   ],
   "source": [
    "plt.figure(figsize=(10, 6))\n",
    "plt.scatter(tvols, trets, c=trets/tvols, marker='x')\n",
    "plt.grid(True)\n",
    "plt.xlabel('expected volatility')\n",
    "plt.ylabel('expected return')"
   ]
  },
  {
   "cell_type": "markdown",
   "metadata": {
    "collapsed": true
   },
   "source": [
    "ハイリターンを狙う場合は右上のリスク・リターンのプロットを実現する最適投資比率になるように資産配分し，ローリスクを狙う場合には左下のプロットを実現する最適投資比率になるように資産配分します．"
   ]
  },
  {
   "cell_type": "code",
   "execution_count": null,
   "metadata": {
    "collapsed": true
   },
   "outputs": [],
   "source": []
  }
 ],
 "metadata": {
  "kernelspec": {
   "display_name": "Python 3",
   "language": "python",
   "name": "python3"
  },
  "language_info": {
   "codemirror_mode": {
    "name": "ipython",
    "version": 3
   },
   "file_extension": ".py",
   "mimetype": "text/x-python",
   "name": "python",
   "nbconvert_exporter": "python",
   "pygments_lexer": "ipython3",
   "version": "3.6.0"
  }
 },
 "nbformat": 4,
 "nbformat_minor": 2
}
