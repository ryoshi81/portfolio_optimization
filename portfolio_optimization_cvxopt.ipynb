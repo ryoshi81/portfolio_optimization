{
 "cells": [
  {
   "cell_type": "markdown",
   "metadata": {},
   "source": [
    "# CVXOPTで２次計画問題を解く〜ポートフォリオ最適化の例〜"
   ]
  },
  {
   "cell_type": "markdown",
   "metadata": {},
   "source": [
    "CVXOPTは凸最適化問題を解くフリーのライブラリです．\n",
    "\n",
    "今回は，ポートフォリオ最適化を例にして，CVXOPTで２次計画問題を実装してみます．"
   ]
  },
  {
   "cell_type": "markdown",
   "metadata": {},
   "source": [
    "## 準備"
   ]
  },
  {
   "cell_type": "markdown",
   "metadata": {},
   "source": [
    "### CVXOPTをインストールする"
   ]
  },
  {
   "cell_type": "markdown",
   "metadata": {},
   "source": [
    "[CVXOPT Installation instructions](http://cvxopt.org/install/index.html)\n",
    "を参考にしてください．"
   ]
  },
  {
   "cell_type": "code",
   "execution_count": null,
   "metadata": {
    "collapsed": true
   },
   "outputs": [],
   "source": [
    "pip install cvxopt"
   ]
  },
  {
   "cell_type": "markdown",
   "metadata": {},
   "source": [
    "### データの準備"
   ]
  },
  {
   "cell_type": "markdown",
   "metadata": {},
   "source": [
    "今回用いるCVXOPT以外のライブラリをインポートします．"
   ]
  },
  {
   "cell_type": "code",
   "execution_count": 1,
   "metadata": {
    "collapsed": true
   },
   "outputs": [],
   "source": [
    "#from math import sqrt\n",
    "import numpy as np\n",
    "import pandas as pd\n",
    "import pandas_datareader.data as pdr\n",
    "import matplotlib.pyplot as plt\n",
    "%matplotlib inline"
   ]
  },
  {
   "cell_type": "markdown",
   "metadata": {},
   "source": [
    "今回の例では，Kenneth R. French教授のData Libraryの30業種ポートフォリオのデータを用います．\n",
    "\n",
    "[Kenneth R. Frenchデータライブラリ](http://mba.tuck.dartmouth.edu/pages/faculty/ken.french/data_library.html)"
   ]
  },
  {
   "cell_type": "code",
   "execution_count": 2,
   "metadata": {
    "collapsed": false
   },
   "outputs": [],
   "source": [
    "name = '30_Industry_Portfolios'\n",
    "df_dict = pdr.DataReader(name=name, data_source='famafrench')\n",
    "df = df_dict[0]"
   ]
  },
  {
   "cell_type": "markdown",
   "metadata": {},
   "source": [
    "期待リターン(収益率)を計算します．"
   ]
  },
  {
   "cell_type": "code",
   "execution_count": 3,
   "metadata": {
    "collapsed": true
   },
   "outputs": [],
   "source": [
    "mean = df.mean()"
   ]
  },
  {
   "cell_type": "markdown",
   "metadata": {},
   "source": [
    "リスク(分散共分散行列)を計算します．"
   ]
  },
  {
   "cell_type": "code",
   "execution_count": 4,
   "metadata": {
    "collapsed": true
   },
   "outputs": [],
   "source": [
    "cov = df.cov()\n",
    "std = np.sqrt(np.diag(cov))"
   ]
  },
  {
   "cell_type": "markdown",
   "metadata": {},
   "source": [
    "各資産を標準偏差と期待リターンでプロットし，シャープレシオ(リスクフリーレートは考慮しない)で色付けします．"
   ]
  },
  {
   "cell_type": "code",
   "execution_count": 5,
   "metadata": {
    "collapsed": false
   },
   "outputs": [
    {
     "data": {
      "text/plain": [
       "<matplotlib.text.Text at 0x115267f28>"
      ]
     },
     "execution_count": 5,
     "metadata": {},
     "output_type": "execute_result"
    },
    {
     "data": {
      "image/png": "[encoded data removed]",
      "text/plain": [
       "<matplotlib.figure.Figure at 0x1140474a8>"
      ]
     },
     "metadata": {},
     "output_type": "display_data"
    }
   ],
   "source": [
    "plt.figure(figsize=(10, 6))\n",
    "plt.scatter(std, mean, c=mean/std, marker='o')\n",
    "plt.grid(True)\n",
    "plt.xlabel('expected volatility')\n",
    "plt.ylabel('expected return')"
   ]
  },
  {
   "cell_type": "markdown",
   "metadata": {},
   "source": [
    "## CVXOPTで二次計画問題を解く"
   ]
  },
  {
   "cell_type": "markdown",
   "metadata": {},
   "source": [
    "### H.M.Markowitzの平均・分散モデル"
   ]
  },
  {
   "cell_type": "markdown",
   "metadata": {},
   "source": [
    "<img src=port_qp.png>"
   ]
  },
  {
   "cell_type": "markdown",
   "metadata": {},
   "source": [
    "### cvxopt.solvers.qp()を使う"
   ]
  },
  {
   "cell_type": "code",
   "execution_count": 6,
   "metadata": {
    "collapsed": true
   },
   "outputs": [],
   "source": [
    "from cvxopt import matrix\n",
    "from cvxopt.solvers import qp"
   ]
  },
  {
   "cell_type": "markdown",
   "metadata": {},
   "source": [
    "[CVXOPT Quadratic Programming](http://cvxopt.org/userguide/coneprog.html#quadratic-programming)\n",
    "を確認すると，qpの引数はP, q, G, h, A, bがあります．よって，ポートフォリオ最適化問題を以下の形式に整理して，行列を求める必要があります．その分，SciPyより手間がかかります．"
   ]
  },
  {
   "cell_type": "markdown",
   "metadata": {},
   "source": [
    "\\begin{align}\n",
    "\\min \\quad & \\frac{1}{2} {\\bf x}^T P {\\bf x} + {\\bf q}^T {\\bf x} \\\\\n",
    "{\\rm subject \\: to} \\quad & G {\\bf x} \\leq {\\bf h} \\\\\n",
    "& A {\\bf x} = {\\bf b} \\\\\n",
    "\\end{align}"
   ]
  },
  {
   "cell_type": "markdown",
   "metadata": {
    "collapsed": true
   },
   "source": [
    "### 目標リターン：自分で決める"
   ]
  },
  {
   "cell_type": "markdown",
   "metadata": {},
   "source": [
    "目標リターンを設定します．\n",
    "目標リターンは，投資家が恣意的に決めますが，今回は個々の資産の期待リターンの水準を参考に決めます．"
   ]
  },
  {
   "cell_type": "code",
   "execution_count": 7,
   "metadata": {
    "collapsed": true
   },
   "outputs": [],
   "source": [
    "tret = mean.mean()  # e.g.: tret = 0.5"
   ]
  },
  {
   "cell_type": "markdown",
   "metadata": {},
   "source": [
    "### 目的関数"
   ]
  },
  {
   "cell_type": "markdown",
   "metadata": {},
   "source": [
    "目的関数はポートフォリオの分散なので，Pは分散共分散行列になります．cvxopt.solvers.qpの引数はcvxopt.matrix型にする必要があります．"
   ]
  },
  {
   "cell_type": "code",
   "execution_count": 8,
   "metadata": {
    "collapsed": false
   },
   "outputs": [],
   "source": [
    "P = matrix(np.array(cov))"
   ]
  },
  {
   "cell_type": "markdown",
   "metadata": {},
   "source": [
    "目的関数はポートフォリオの分散なので，qはすべての要素が0の列ベクトルです．なお，「0」とするとmatrixのtc='i'の整数となってしまうため，「0.0」としてtc='d'となるようにします．"
   ]
  },
  {
   "cell_type": "code",
   "execution_count": 9,
   "metadata": {
    "collapsed": false
   },
   "outputs": [],
   "source": [
    "q = matrix([0.0] * len(mean))"
   ]
  },
  {
   "cell_type": "markdown",
   "metadata": {},
   "source": [
    "### 制約条件"
   ]
  },
  {
   "cell_type": "markdown",
   "metadata": {},
   "source": [
    "Aとbは投資比率の和が1となる等式制約に当たります．Aは要素がすべて1.0の行ベクトルになります．"
   ]
  },
  {
   "cell_type": "code",
   "execution_count": 10,
   "metadata": {
    "collapsed": false
   },
   "outputs": [],
   "source": [
    "A = matrix(1.0, (1, len(mean)))"
   ]
  },
  {
   "cell_type": "markdown",
   "metadata": {},
   "source": [
    "投資比率の和が1なので，bは1.0です．"
   ]
  },
  {
   "cell_type": "code",
   "execution_count": 11,
   "metadata": {
    "collapsed": false
   },
   "outputs": [],
   "source": [
    "b = matrix(1.0)"
   ]
  },
  {
   "cell_type": "markdown",
   "metadata": {},
   "source": [
    "不等式制約はポートフォリオの期待リターンが目標リターン以上となる制約と下限制約にあたります．$G$は以下のようになります．"
   ]
  },
  {
   "cell_type": "markdown",
   "metadata": {},
   "source": [
    "\\begin{eqnarray}\n",
    "  G = \\left(\n",
    "\\begin{array}{ccc}\n",
    "1 & \\cdots & 0 \\\\\n",
    "\\vdots & \\ddots & \\vdots \\\\\n",
    "0 & \\cdots & 1 \\\\\n",
    "-r_1 & \\cdots & -r_n\n",
    "\\end{array}\n",
    "  \\right)\n",
    "\\end{eqnarray}"
   ]
  },
  {
   "cell_type": "code",
   "execution_count": 12,
   "metadata": {
    "collapsed": false
   },
   "outputs": [],
   "source": [
    "G = matrix(np.c_[-np.identity(len(mean)), np.array(-mean)].T)"
   ]
  },
  {
   "cell_type": "markdown",
   "metadata": {},
   "source": [
    "hは下限0と目標リターン$r_G$の列ベクトルになります．"
   ]
  },
  {
   "cell_type": "markdown",
   "metadata": {},
   "source": [
    "$$h=(0,\\cdots,0,-r_G)^T$$"
   ]
  },
  {
   "cell_type": "code",
   "execution_count": 13,
   "metadata": {
    "collapsed": false
   },
   "outputs": [],
   "source": [
    "h = matrix(np.r_[np.zeros(len(mean)), np.array(-tret, ndmin=1)])"
   ]
  },
  {
   "cell_type": "markdown",
   "metadata": {},
   "source": [
    "まとめると，次のようになります．"
   ]
  },
  {
   "cell_type": "code",
   "execution_count": 14,
   "metadata": {
    "collapsed": true
   },
   "outputs": [],
   "source": [
    "tret = mean.mean()\n",
    "P = matrix(np.array(cov))\n",
    "q = matrix([0.0] * len(mean))\n",
    "A = matrix(1.0, (1, len(mean)))\n",
    "b = matrix(1.0)\n",
    "G = matrix(np.c_[-np.identity(len(mean)), np.array(-mean)].T)\n",
    "h = matrix(np.r_[np.zeros(len(mean)), np.array(-tret, ndmin=1)])"
   ]
  },
  {
   "cell_type": "markdown",
   "metadata": {},
   "source": [
    "### 最適化"
   ]
  },
  {
   "cell_type": "markdown",
   "metadata": {},
   "source": [
    "最適化を実行します．"
   ]
  },
  {
   "cell_type": "code",
   "execution_count": 15,
   "metadata": {
    "collapsed": false
   },
   "outputs": [
    {
     "name": "stdout",
     "output_type": "stream",
     "text": [
      "     pcost       dcost       gap    pres   dres\n",
      " 0:  1.9211e+00  1.3849e+00  5e+01  6e+00  2e+01\n",
      " 1:  2.2276e+00  1.8570e+00  7e+00  9e-01  2e+00\n",
      " 2:  2.9679e+00  2.7243e+00  2e+00  2e-01  4e-01\n",
      " 3:  3.2479e+00  3.1472e+00  2e-01  1e-02  3e-02\n",
      " 4:  3.2302e+00  3.2133e+00  2e-02  3e-04  8e-04\n",
      " 5:  3.2202e+00  3.2188e+00  1e-03  9e-06  2e-05\n",
      " 6:  3.2192e+00  3.2191e+00  1e-04  5e-08  1e-07\n",
      " 7:  3.2191e+00  3.2191e+00  9e-06  4e-11  1e-10\n",
      " 8:  3.2191e+00  3.2191e+00  3e-07  2e-13  4e-13\n",
      "Optimal solution found.\n",
      "CPU times: user 5.65 ms, sys: 4.31 ms, total: 9.96 ms\n",
      "Wall time: 18.8 ms\n"
     ]
    }
   ],
   "source": [
    "%%time\n",
    "sol = qp(P=P, q=q, G=G, h=h, A=A, b=b)"
   ]
  },
  {
   "cell_type": "markdown",
   "metadata": {},
   "source": [
    "最適投資比率を確認します．"
   ]
  },
  {
   "cell_type": "code",
   "execution_count": 16,
   "metadata": {
    "collapsed": false
   },
   "outputs": [
    {
     "data": {
      "text/plain": [
       "[0.08102582818011099,\n",
       " 0.18117580350450893,\n",
       " 2.2052601958051202e-10,\n",
       " 2.791473818233822e-10,\n",
       " 2.3107093599012332e-10,\n",
       " 0.2235805616660585,\n",
       " 2.1444947893347337e-05,\n",
       " 0.0429951541646363,\n",
       " 2.244672059887378e-10,\n",
       " 1.576811647356438e-10,\n",
       " 2.2223707005360278e-10,\n",
       " 1.593828339444295e-10,\n",
       " 2.2480204747889163e-10,\n",
       " 2.5436816569490545e-10,\n",
       " 2.3757218306833857e-10,\n",
       " 7.245791200101394e-10,\n",
       " 1.0960614720006523e-09,\n",
       " 2.8289594757143084e-10,\n",
       " 8.17793744887795e-10,\n",
       " 0.2703630276982489,\n",
       " 4.775847959235986e-10,\n",
       " 7.165009657765875e-10,\n",
       " 3.887935533418998e-10,\n",
       " 2.8978444779476304e-10,\n",
       " 6.20164316805808e-10,\n",
       " 3.2022559431358423e-09,\n",
       " 1.030499621608577e-09,\n",
       " 0.20083816399777873,\n",
       " 3.11614176673406e-09,\n",
       " 8.664535479005866e-10]"
      ]
     },
     "execution_count": 16,
     "metadata": {},
     "output_type": "execute_result"
    }
   ],
   "source": [
    "list(sol['x'])"
   ]
  },
  {
   "cell_type": "markdown",
   "metadata": {},
   "source": [
    "最適値(ポートフォリオの分散)を確認します．"
   ]
  },
  {
   "cell_type": "code",
   "execution_count": 17,
   "metadata": {
    "collapsed": false
   },
   "outputs": [
    {
     "data": {
      "text/plain": [
       "6.438220501299367"
      ]
     },
     "execution_count": 17,
     "metadata": {},
     "output_type": "execute_result"
    }
   ],
   "source": [
    "2 * sol['primal objective']"
   ]
  },
  {
   "cell_type": "markdown",
   "metadata": {},
   "source": [
    "### 効率的フロンティアを描く"
   ]
  },
  {
   "cell_type": "markdown",
   "metadata": {},
   "source": [
    "目標リターンを複数パターン作ります．"
   ]
  },
  {
   "cell_type": "code",
   "execution_count": 18,
   "metadata": {
    "collapsed": true
   },
   "outputs": [],
   "source": [
    "mean_high = mean.max().round(3)\n",
    "mean_low = round(mean.quantile(0.25), 3)\n",
    "trets = np.linspace(mean_low, mean_high, 50)"
   ]
  },
  {
   "cell_type": "markdown",
   "metadata": {},
   "source": [
    "各目標リターンについて，最適化を実行します．"
   ]
  },
  {
   "cell_type": "code",
   "execution_count": 19,
   "metadata": {
    "collapsed": false
   },
   "outputs": [
    {
     "name": "stdout",
     "output_type": "stream",
     "text": [
      "CPU times: user 2 µs, sys: 1e+03 ns, total: 3 µs\n",
      "Wall time: 5.25 µs\n",
      "     pcost       dcost       gap    pres   dres\n",
      " 0:  1.9184e+00  1.2664e+00  5e+01  7e+00  2e+01\n",
      " 1:  2.2018e+00  1.7737e+00  7e+00  1e+00  2e+00\n",
      " 2:  2.9262e+00  2.6951e+00  2e+00  2e-01  4e-01\n",
      " 3:  3.2282e+00  3.1416e+00  2e-01  2e-02  4e-02\n",
      " 4:  3.2285e+00  3.2124e+00  2e-02  8e-04  2e-03\n",
      " 5:  3.2201e+00  3.2188e+00  2e-03  3e-05  7e-05\n",
      " 6:  3.2191e+00  3.2191e+00  7e-05  3e-07  6e-07\n",
      " 7:  3.2191e+00  3.2191e+00  7e-06  2e-09  3e-09\n",
      " 8:  3.2191e+00  3.2191e+00  4e-07  1e-16  8e-15\n",
      "Optimal solution found.\n",
      "     pcost       dcost       gap    pres   dres\n",
      " 0:  1.9187e+00  1.2838e+00  5e+01  7e+00  2e+01\n",
      " 1:  2.2054e+00  1.7851e+00  7e+00  1e+00  2e+00\n",
      " 2:  2.9296e+00  2.6965e+00  2e+00  2e-01  4e-01\n",
      " 3:  3.2303e+00  3.1427e+00  2e-01  2e-02  4e-02\n",
      " 4:  3.2286e+00  3.2124e+00  2e-02  7e-04  2e-03\n",
      " 5:  3.2201e+00  3.2188e+00  2e-03  3e-05  6e-05\n",
      " 6:  3.2191e+00  3.2191e+00  7e-05  3e-07  6e-07\n",
      " 7:  3.2191e+00  3.2191e+00  6e-06  1e-09  3e-09\n",
      " 8:  3.2191e+00  3.2191e+00  4e-07  1e-16  7e-15\n",
      "Optimal solution found.\n",
      "     pcost       dcost       gap    pres   dres\n",
      " 0:  1.9191e+00  1.3017e+00  5e+01  7e+00  2e+01\n",
      " 1:  2.2091e+00  1.7970e+00  7e+00  1e+00  2e+00\n",
      " 2:  2.9341e+00  2.6990e+00  2e+00  2e-01  4e-01\n",
      " 3:  3.2325e+00  3.1441e+00  2e-01  2e-02  3e-02\n",
      " 4:  3.2286e+00  3.2125e+00  2e-02  6e-04  1e-03\n",
      " 5:  3.2201e+00  3.2188e+00  1e-03  2e-05  5e-05\n",
      " 6:  3.2191e+00  3.2191e+00  7e-05  2e-07  5e-07\n",
      " 7:  3.2191e+00  3.2191e+00  6e-06  1e-09  2e-09\n",
      " 8:  3.2191e+00  3.2191e+00  4e-07  2e-16  7e-15\n",
      "Optimal solution found.\n",
      "     pcost       dcost       gap    pres   dres\n",
      " 0:  1.9195e+00  1.3199e+00  5e+01  7e+00  2e+01\n",
      " 1:  2.2130e+00  1.8096e+00  7e+00  1e+00  2e+00\n",
      " 2:  2.9395e+00  2.7025e+00  2e+00  2e-01  4e-01\n",
      " 3:  3.2351e+00  3.1460e+00  2e-01  1e-02  3e-02\n",
      " 4:  3.2286e+00  3.2125e+00  2e-02  5e-04  1e-03\n",
      " 5:  3.2200e+00  3.2188e+00  1e-03  2e-05  4e-05\n",
      " 6:  3.2191e+00  3.2191e+00  6e-05  2e-07  4e-07\n",
      " 7:  3.2191e+00  3.2191e+00  6e-06  8e-10  2e-09\n",
      " 8:  3.2191e+00  3.2191e+00  4e-07  1e-16  6e-15\n",
      "Optimal solution found.\n",
      "     pcost       dcost       gap    pres   dres\n",
      " 0:  1.9199e+00  1.3385e+00  5e+01  7e+00  2e+01\n",
      " 1:  2.2171e+00  1.8227e+00  7e+00  1e+00  2e+00\n",
      " 2:  2.9462e+00  2.7072e+00  2e+00  2e-01  4e-01\n",
      " 3:  3.2391e+00  3.1482e+00  2e-01  1e-02  3e-02\n",
      " 4:  3.2285e+00  3.2125e+00  2e-02  4e-04  9e-04\n",
      " 5:  3.2200e+00  3.2188e+00  1e-03  1e-05  3e-05\n",
      " 6:  3.2191e+00  3.2191e+00  6e-05  1e-07  3e-07\n",
      " 7:  3.2191e+00  3.2191e+00  6e-06  6e-10  1e-09\n",
      " 8:  3.2191e+00  3.2191e+00  3e-07  2e-16  6e-15\n",
      "Optimal solution found.\n",
      "     pcost       dcost       gap    pres   dres\n",
      " 0:  1.9204e+00  1.3575e+00  5e+01  6e+00  2e+01\n",
      " 1:  2.2213e+00  1.8365e+00  7e+00  9e-01  2e+00\n",
      " 2:  2.9542e+00  2.7133e+00  2e+00  2e-01  4e-01\n",
      " 3:  3.2455e+00  3.1512e+00  2e-01  1e-02  3e-02\n",
      " 4:  3.2285e+00  3.2126e+00  2e-02  3e-04  6e-04\n",
      " 5:  3.2199e+00  3.2188e+00  1e-03  7e-06  2e-05\n",
      " 6:  3.2191e+00  3.2191e+00  6e-05  8e-08  2e-07\n",
      " 7:  3.2191e+00  3.2191e+00  5e-06  4e-10  8e-10\n",
      " 8:  3.2191e+00  3.2191e+00  3e-07  1e-16  6e-15\n",
      "Optimal solution found.\n",
      "     pcost       dcost       gap    pres   dres\n",
      " 0:  1.9209e+00  1.3769e+00  5e+01  6e+00  2e+01\n",
      " 1:  2.2258e+00  1.8510e+00  7e+00  9e-01  2e+00\n",
      " 2:  2.9636e+00  2.7208e+00  2e+00  2e-01  4e-01\n",
      " 3:  3.2488e+00  3.1503e+00  2e-01  1e-02  3e-02\n",
      " 4:  3.2293e+00  3.2130e+00  2e-02  3e-04  6e-04\n",
      " 5:  3.2199e+00  3.2186e+00  1e-03  7e-06  2e-05\n",
      " 6:  3.2191e+00  3.2190e+00  8e-05  4e-08  8e-08\n",
      " 7:  3.2191e+00  3.2191e+00  6e-06  3e-10  6e-10\n",
      " 8:  3.2191e+00  3.2191e+00  3e-07  2e-12  4e-12\n",
      "Optimal solution found.\n",
      "     pcost       dcost       gap    pres   dres\n",
      " 0:  1.9214e+00  1.3967e+00  5e+01  6e+00  2e+01\n",
      " 1:  2.2304e+00  1.8661e+00  7e+00  9e-01  2e+00\n",
      " 2:  2.9747e+00  2.7299e+00  2e+00  2e-01  4e-01\n",
      " 3:  3.2468e+00  3.1427e+00  2e-01  2e-02  4e-02\n",
      " 4:  3.2324e+00  3.2140e+00  2e-02  7e-04  2e-03\n",
      " 5:  3.2214e+00  3.2200e+00  1e-03  2e-05  4e-05\n",
      " 6:  3.2203e+00  3.2203e+00  7e-05  1e-07  3e-07\n",
      " 7:  3.2203e+00  3.2203e+00  6e-06  1e-09  2e-09\n",
      " 8:  3.2203e+00  3.2203e+00  2e-07  4e-12  9e-12\n",
      "Optimal solution found.\n",
      "     pcost       dcost       gap    pres   dres\n",
      " 0:  1.9220e+00  1.4168e+00  5e+01  6e+00  2e+01\n",
      " 1:  2.2353e+00  1.8819e+00  7e+00  9e-01  2e+00\n",
      " 2:  2.9874e+00  2.7408e+00  2e+00  2e-01  4e-01\n",
      " 3:  3.2456e+00  3.1349e+00  3e-01  2e-02  5e-02\n",
      " 4:  3.2386e+00  3.2184e+00  3e-02  1e-03  3e-03\n",
      " 5:  3.2274e+00  3.2258e+00  2e-03  4e-05  1e-04\n",
      " 6:  3.2262e+00  3.2261e+00  8e-05  4e-07  1e-06\n",
      " 7:  3.2262e+00  3.2262e+00  6e-06  3e-09  6e-09\n",
      " 8:  3.2262e+00  3.2262e+00  1e-07  2e-11  5e-11\n",
      "Optimal solution found.\n",
      "     pcost       dcost       gap    pres   dres\n",
      " 0:  1.9227e+00  1.4374e+00  5e+01  6e+00  2e+01\n",
      " 1:  2.2404e+00  1.8984e+00  7e+00  9e-01  2e+00\n",
      " 2:  3.0021e+00  2.7534e+00  2e+00  2e-01  4e-01\n",
      " 3:  3.2460e+00  3.1272e+00  3e-01  3e-02  7e-02\n",
      " 4:  3.2508e+00  3.2282e+00  3e-02  2e-03  4e-03\n",
      " 5:  3.2383e+00  3.2365e+00  2e-03  4e-05  1e-04\n",
      " 6:  3.2370e+00  3.2369e+00  9e-05  5e-07  1e-06\n",
      " 7:  3.2369e+00  3.2369e+00  6e-06  3e-09  8e-09\n",
      " 8:  3.2369e+00  3.2369e+00  9e-08  3e-11  6e-11\n",
      "Optimal solution found.\n",
      "     pcost       dcost       gap    pres   dres\n",
      " 0:  1.9234e+00  1.4583e+00  5e+01  6e+00  2e+01\n",
      " 1:  2.2457e+00  1.9156e+00  7e+00  9e-01  2e+00\n",
      " 2:  3.0188e+00  2.7681e+00  2e+00  2e-01  4e-01\n",
      " 3:  3.2486e+00  3.1202e+00  4e-01  3e-02  8e-02\n",
      " 4:  3.2704e+00  3.2421e+00  4e-02  2e-03  4e-03\n",
      " 5:  3.2543e+00  3.2520e+00  3e-03  3e-05  9e-05\n",
      " 6:  3.2527e+00  3.2526e+00  9e-05  3e-07  8e-07\n",
      " 7:  3.2526e+00  3.2526e+00  5e-06  3e-09  7e-09\n",
      " 8:  3.2526e+00  3.2526e+00  7e-08  3e-11  9e-11\n",
      "Optimal solution found.\n",
      "     pcost       dcost       gap    pres   dres\n",
      " 0:  1.9241e+00  1.4797e+00  5e+01  6e+00  2e+01\n",
      " 1:  2.2513e+00  1.9335e+00  7e+00  9e-01  2e+00\n",
      " 2:  3.0378e+00  2.7849e+00  2e+00  1e-01  4e-01\n",
      " 3:  3.2544e+00  3.1146e+00  5e-01  4e-02  1e-01\n",
      " 4:  3.2962e+00  3.2594e+00  5e-02  2e-03  4e-03\n",
      " 5:  3.2755e+00  3.2723e+00  4e-03  4e-05  1e-04\n",
      " 6:  3.2732e+00  3.2731e+00  1e-04  3e-07  8e-07\n",
      " 7:  3.2732e+00  3.2731e+00  6e-06  3e-09  8e-09\n",
      " 8:  3.2731e+00  3.2731e+00  7e-08  3e-11  9e-11\n",
      "Optimal solution found.\n",
      "     pcost       dcost       gap    pres   dres\n",
      " 0:  1.9249e+00  1.5014e+00  5e+01  6e+00  2e+01\n",
      " 1:  2.2571e+00  1.9522e+00  7e+00  9e-01  2e+00\n",
      " 2:  3.0592e+00  2.8039e+00  1e+00  1e-01  4e-01\n",
      " 3:  3.2648e+00  3.1118e+00  6e-01  4e-02  1e-01\n",
      " 4:  3.3272e+00  3.2808e+00  6e-02  2e-03  5e-03\n",
      " 5:  3.3023e+00  3.2973e+00  6e-03  8e-05  2e-04\n",
      " 6:  3.2988e+00  3.2985e+00  2e-04  5e-07  1e-06\n",
      " 7:  3.2986e+00  3.2986e+00  9e-06  4e-09  1e-08\n",
      " 8:  3.2986e+00  3.2986e+00  9e-08  4e-11  1e-10\n",
      "Optimal solution found.\n",
      "     pcost       dcost       gap    pres   dres\n",
      " 0:  1.9257e+00  1.5235e+00  5e+01  6e+00  2e+01\n",
      " 1:  2.2632e+00  1.9717e+00  7e+00  9e-01  2e+00\n",
      " 2:  3.0833e+00  2.8253e+00  1e+00  1e-01  4e-01\n",
      " 3:  3.2820e+00  3.1146e+00  7e-01  5e-02  1e-01\n",
      " 4:  3.3626e+00  3.3072e+00  8e-02  2e-03  5e-03\n",
      " 5:  3.3345e+00  3.3273e+00  9e-03  1e-04  4e-04\n",
      " 6:  3.3293e+00  3.3288e+00  4e-04  7e-07  2e-06\n",
      " 7:  3.3290e+00  3.3289e+00  3e-05  3e-09  8e-09\n",
      " 8:  3.3289e+00  3.3289e+00  3e-06  1e-11  2e-10\n",
      "Optimal solution found.\n",
      "     pcost       dcost       gap    pres   dres\n",
      " 0:  1.9265e+00  1.5460e+00  5e+01  6e+00  2e+01\n",
      " 1:  2.2695e+00  1.9919e+00  7e+00  9e-01  2e+00\n",
      " 2:  3.0994e+00  2.8441e+00  1e+00  1e-01  4e-01\n",
      " 3:  3.3001e+00  3.1278e+00  8e-01  5e-02  1e-01\n",
      " 4:  3.4026e+00  3.3388e+00  9e-02  2e-03  6e-03\n",
      " 5:  3.3708e+00  3.3626e+00  9e-03  1e-04  4e-04\n",
      " 6:  3.3648e+00  3.3643e+00  5e-04  2e-16  6e-13\n",
      " 7:  3.3644e+00  3.3644e+00  2e-05  1e-16  5e-12\n",
      " 8:  3.3644e+00  3.3644e+00  3e-07  9e-17  3e-11\n",
      "Optimal solution found.\n",
      "     pcost       dcost       gap    pres   dres\n",
      " 0:  1.9274e+00  1.5689e+00  5e+01  6e+00  2e+01\n",
      " 1:  2.2760e+00  2.0125e+00  8e+00  9e-01  2e+00\n",
      " 2:  3.1093e+00  2.8612e+00  2e+00  1e-01  4e-01\n",
      " 3:  3.3149e+00  3.1480e+00  8e-01  6e-02  2e-01\n",
      " 4:  3.4465e+00  3.3762e+00  1e-01  3e-03  7e-03\n",
      " 5:  3.4106e+00  3.4031e+00  8e-03  5e-05  1e-04\n",
      " 6:  3.4056e+00  3.4049e+00  7e-04  3e-06  7e-06\n",
      " 7:  3.4051e+00  3.4050e+00  2e-05  2e-08  6e-08\n",
      " 8:  3.4050e+00  3.4050e+00  4e-07  2e-10  5e-10\n",
      "Optimal solution found.\n",
      "     pcost       dcost       gap    pres   dres\n",
      " 0:  1.9283e+00  1.5922e+00  5e+01  6e+00  2e+01\n",
      " 1:  2.2816e+00  2.0306e+00  8e+00  9e-01  2e+00\n",
      " 2:  3.1209e+00  2.8792e+00  2e+00  1e-01  4e-01\n",
      " 3:  3.3319e+00  3.1727e+00  9e-01  7e-02  2e-01\n",
      " 4:  3.4945e+00  3.4216e+00  1e-01  3e-03  8e-03\n",
      " 5:  3.4570e+00  3.4488e+00  9e-03  8e-05  2e-04\n",
      " 6:  3.4511e+00  3.4505e+00  6e-04  3e-06  7e-06\n",
      " 7:  3.4506e+00  3.4506e+00  2e-05  3e-08  7e-08\n",
      " 8:  3.4506e+00  3.4506e+00  3e-07  3e-10  7e-10\n",
      "Optimal solution found.\n",
      "     pcost       dcost       gap    pres   dres\n",
      " 0:  1.9293e+00  1.6159e+00  5e+01  6e+00  2e+01\n",
      " 1:  2.2876e+00  2.0495e+00  8e+00  8e-01  2e+00\n",
      " 2:  3.1341e+00  2.8996e+00  2e+00  2e-01  4e-01\n",
      " 3:  3.3508e+00  3.2024e+00  1e+00  7e-02  2e-01\n",
      " 4:  3.5469e+00  3.4758e+00  1e-01  3e-03  9e-03\n",
      " 5:  3.5115e+00  3.5047e+00  8e-03  1e-04  3e-04\n",
      " 6:  3.5063e+00  3.5060e+00  3e-04  2e-06  6e-06\n",
      " 7:  3.5061e+00  3.5061e+00  2e-05  3e-08  8e-08\n",
      " 8:  3.5061e+00  3.5061e+00  6e-07  2e-10  8e-10\n",
      "Optimal solution found.\n",
      "     pcost       dcost       gap    pres   dres\n",
      " 0:  1.9303e+00  1.6399e+00  5e+01  6e+00  2e+01\n",
      " 1:  2.2939e+00  2.0694e+00  8e+00  8e-01  2e+00\n",
      " 2:  3.1488e+00  2.9224e+00  2e+00  2e-01  4e-01\n",
      " 3:  3.3716e+00  3.2371e+00  1e+00  8e-02  2e-01\n",
      " 4:  3.5945e+00  3.5323e+00  2e-01  6e-03  2e-02\n",
      " 5:  3.5762e+00  3.5703e+00  9e-03  2e-04  6e-04\n",
      " 6:  3.5723e+00  3.5722e+00  1e-04  3e-06  8e-06\n",
      " 7:  3.5722e+00  3.5722e+00  1e-06  3e-08  8e-08\n",
      "Optimal solution found.\n",
      "     pcost       dcost       gap    pres   dres\n",
      " 0:  1.9313e+00  1.6644e+00  5e+01  6e+00  2e+01\n",
      " 1:  2.3005e+00  2.0901e+00  8e+00  8e-01  2e+00\n",
      " 2:  3.1652e+00  2.9477e+00  2e+00  2e-01  4e-01\n",
      " 3:  3.3942e+00  3.2765e+00  1e+00  8e-02  2e-01\n",
      " 4:  3.6324e+00  3.5883e+00  2e-01  1e-02  3e-02\n",
      " 5:  3.6492e+00  3.6432e+00  1e-02  4e-04  1e-03\n",
      " 6:  3.6458e+00  3.6457e+00  2e-04  6e-06  2e-05\n",
      " 7:  3.6457e+00  3.6457e+00  2e-06  6e-08  2e-07\n",
      " 8:  3.6457e+00  3.6457e+00  2e-08  6e-10  2e-09\n",
      "Optimal solution found.\n",
      "     pcost       dcost       gap    pres   dres\n",
      " 0:  1.9324e+00  1.6892e+00  5e+01  5e+00  2e+01\n",
      " 1:  2.3074e+00  2.1117e+00  8e+00  8e-01  2e+00\n",
      " 2:  3.1831e+00  2.9755e+00  2e+00  2e-01  5e-01\n",
      " 3:  3.4186e+00  3.3205e+00  1e+00  9e-02  2e-01\n",
      " 4:  3.6740e+00  3.6534e+00  3e-01  2e-02  4e-02\n",
      " 5:  3.7300e+00  3.7232e+00  2e-02  5e-04  1e-03\n",
      " 6:  3.7267e+00  3.7265e+00  3e-04  8e-06  2e-05\n",
      " 7:  3.7266e+00  3.7266e+00  3e-06  8e-08  2e-07\n",
      " 8:  3.7266e+00  3.7266e+00  3e-08  8e-10  2e-09\n",
      "Optimal solution found.\n",
      "     pcost       dcost       gap    pres   dres\n",
      " 0:  1.9336e+00  1.7144e+00  5e+01  5e+00  2e+01\n",
      " 1:  2.3147e+00  2.1342e+00  8e+00  8e-01  2e+00\n",
      " 2:  3.2026e+00  3.0058e+00  2e+00  2e-01  5e-01\n",
      " 3:  3.4447e+00  3.3688e+00  1e+00  9e-02  3e-01\n",
      " 4:  3.7210e+00  3.7284e+00  4e-01  2e-02  5e-02\n",
      " 5:  3.8201e+00  3.8106e+00  2e-02  3e-04  8e-04\n",
      " 6:  3.8150e+00  3.8146e+00  4e-04  5e-06  1e-05\n",
      " 7:  3.8147e+00  3.8147e+00  5e-06  5e-08  1e-07\n",
      " 8:  3.8147e+00  3.8147e+00  5e-08  5e-10  1e-09\n",
      "Optimal solution found.\n",
      "     pcost       dcost       gap    pres   dres\n",
      " 0:  1.9347e+00  1.7400e+00  5e+01  5e+00  2e+01\n",
      " 1:  2.3224e+00  2.1576e+00  8e+00  8e-01  2e+00\n",
      " 2:  3.2237e+00  3.0387e+00  2e+00  2e-01  5e-01\n",
      " 3:  3.4726e+00  3.4215e+00  1e+00  1e-01  3e-01\n",
      " 4:  3.7733e+00  3.8126e+00  4e-01  2e-02  6e-02\n",
      " 5:  3.9166e+00  3.9045e+00  2e-02  3e-04  8e-04\n",
      " 6:  3.9106e+00  3.9101e+00  6e-04  5e-06  1e-05\n",
      " 7:  3.9102e+00  3.9102e+00  1e-05  5e-08  1e-07\n",
      " 8:  3.9102e+00  3.9102e+00  1e-07  5e-10  1e-09\n",
      "Optimal solution found.\n",
      "     pcost       dcost       gap    pres   dres\n",
      " 0:  1.9359e+00  1.7660e+00  5e+01  5e+00  2e+01\n",
      " 1:  2.3303e+00  2.1820e+00  8e+00  8e-01  2e+00\n",
      " 2:  3.2463e+00  3.0740e+00  2e+00  2e-01  5e-01\n",
      " 3:  3.5023e+00  3.4783e+00  1e+00  1e-01  3e-01\n",
      " 4:  3.8308e+00  3.9057e+00  4e-01  3e-02  7e-02\n",
      " 5:  4.0188e+00  4.0061e+00  2e-02  4e-04  1e-03\n",
      " 6:  4.0135e+00  4.0127e+00  1e-03  6e-06  2e-05\n",
      " 7:  4.0131e+00  4.0130e+00  4e-05  6e-08  2e-07\n",
      " 8:  4.0130e+00  4.0130e+00  6e-07  6e-10  2e-09\n",
      "Optimal solution found.\n",
      "     pcost       dcost       gap    pres   dres\n",
      " 0:  1.9372e+00  1.7924e+00  5e+01  5e+00  2e+01\n",
      " 1:  2.3387e+00  2.2072e+00  8e+00  8e-01  2e+00\n",
      " 2:  3.2704e+00  3.1118e+00  2e+00  2e-01  5e-01\n",
      " 3:  3.5336e+00  3.5393e+00  2e+00  1e-01  3e-01\n",
      " 4:  3.8846e+00  4.0006e+00  5e-01  3e-02  8e-02\n",
      " 5:  4.1233e+00  4.1150e+00  3e-02  8e-04  2e-03\n",
      " 6:  4.1238e+00  4.1228e+00  1e-03  2e-05  5e-05\n",
      " 7:  4.1233e+00  4.1232e+00  1e-04  2e-07  5e-07\n",
      " 8:  4.1232e+00  4.1232e+00  1e-05  2e-16  3e-10\n",
      " 9:  4.1232e+00  4.1232e+00  2e-06  2e-16  2e-09\n",
      "Optimal solution found.\n",
      "     pcost       dcost       gap    pres   dres\n",
      " 0:  1.9385e+00  1.8192e+00  5e+01  5e+00  2e+01\n",
      " 1:  2.3474e+00  2.2333e+00  8e+00  8e-01  2e+00\n",
      " 2:  3.2959e+00  3.1522e+00  2e+00  2e-01  5e-01\n",
      " 3:  3.5667e+00  3.6042e+00  2e+00  1e-01  3e-01\n",
      " 4:  3.9403e+00  4.1012e+00  6e-01  3e-02  9e-02\n",
      " 5:  4.2317e+00  4.2329e+00  3e-02  1e-03  4e-03\n",
      " 6:  4.2437e+00  4.2432e+00  2e-03  8e-05  2e-04\n",
      " 7:  4.2441e+00  4.2441e+00  6e-05  9e-07  2e-06\n",
      " 8:  4.2441e+00  4.2441e+00  6e-07  9e-09  2e-08\n",
      "Optimal solution found.\n",
      "     pcost       dcost       gap    pres   dres\n",
      " 0:  1.9398e+00  1.8464e+00  5e+01  5e+00  2e+01\n",
      " 1:  2.3564e+00  2.2604e+00  8e+00  8e-01  2e+00\n",
      " 2:  3.3229e+00  3.1949e+00  2e+00  2e-01  6e-01\n",
      " 3:  3.6014e+00  3.6730e+00  2e+00  1e-01  3e-01\n",
      " 4:  4.0010e+00  4.2100e+00  6e-01  4e-02  1e-01\n",
      " 5:  4.3108e+00  4.3512e+00  1e-01  5e-03  1e-02\n",
      " 6:  4.3798e+00  4.3762e+00  5e-03  4e-05  1e-04\n",
      " 7:  4.3778e+00  4.3777e+00  2e-04  9e-07  2e-06\n",
      " 8:  4.3778e+00  4.3777e+00  1e-05  1e-08  3e-08\n",
      " 9:  4.3778e+00  4.3778e+00  1e-06  1e-16  2e-09\n",
      "Optimal solution found.\n",
      "     pcost       dcost       gap    pres   dres\n",
      " 0:  1.9412e+00  1.8740e+00  5e+01  5e+00  2e+01\n",
      " 1:  2.3659e+00  2.2883e+00  8e+00  8e-01  2e+00\n",
      " 2:  3.3512e+00  3.2402e+00  2e+00  2e-01  6e-01\n",
      " 3:  3.6377e+00  3.7457e+00  2e+00  1e-01  3e-01\n",
      " 4:  4.0665e+00  4.3268e+00  7e-01  4e-02  1e-01\n",
      " 5:  4.3847e+00  4.4771e+00  2e-01  9e-03  3e-02\n",
      " 6:  4.5274e+00  4.5196e+00  9e-03  4e-05  1e-04\n",
      " 7:  4.5225e+00  4.5224e+00  1e-04  4e-07  1e-06\n",
      " 8:  4.5224e+00  4.5224e+00  1e-06  4e-09  1e-08\n",
      "Optimal solution found.\n",
      "     pcost       dcost       gap    pres   dres\n",
      " 0:  1.9426e+00  1.9019e+00  5e+01  5e+00  2e+01\n",
      " 1:  2.3757e+00  2.3172e+00  8e+00  8e-01  2e+00\n",
      " 2:  3.3809e+00  3.2878e+00  3e+00  2e-01  6e-01\n",
      " 3:  3.6756e+00  3.8222e+00  2e+00  1e-01  4e-01\n",
      " 4:  4.1369e+00  4.4517e+00  7e-01  4e-02  1e-01\n",
      " 5:  4.4703e+00  4.6156e+00  2e-01  1e-02  3e-02\n",
      " 6:  4.6712e+00  4.6712e+00  2e-02  7e-04  2e-03\n",
      " 7:  4.6768e+00  4.6767e+00  3e-04  8e-06  2e-05\n",
      " 8:  4.6768e+00  4.6768e+00  3e-06  8e-08  2e-07\n",
      " 9:  4.6768e+00  4.6768e+00  3e-08  8e-10  2e-09\n",
      "Optimal solution found.\n",
      "     pcost       dcost       gap    pres   dres\n",
      " 0:  1.9441e+00  1.9302e+00  5e+01  5e+00  2e+01\n",
      " 1:  2.3859e+00  2.3471e+00  8e+00  8e-01  2e+00\n",
      " 2:  3.4118e+00  3.3378e+00  3e+00  2e-01  6e-01\n",
      " 3:  3.7151e+00  3.9025e+00  2e+00  1e-01  4e-01\n",
      " 4:  4.2120e+00  4.5846e+00  8e-01  4e-02  1e-01\n",
      " 5:  4.5750e+00  4.7689e+00  3e-01  1e-02  4e-02\n",
      " 6:  4.8273e+00  4.8342e+00  3e-02  1e-03  3e-03\n",
      " 7:  4.8407e+00  4.8407e+00  6e-04  1e-05  4e-05\n",
      " 8:  4.8409e+00  4.8409e+00  7e-06  2e-07  4e-07\n",
      " 9:  4.8409e+00  4.8409e+00  7e-08  2e-09  4e-09\n",
      "Optimal solution found.\n",
      "     pcost       dcost       gap    pres   dres\n",
      " 0:  1.9456e+00  1.9590e+00  6e+01  5e+00  2e+01\n",
      " 1:  2.3965e+00  2.3778e+00  8e+00  8e-01  2e+00\n",
      " 2:  3.4439e+00  3.3902e+00  3e+00  2e-01  6e-01\n",
      " 3:  3.7561e+00  3.9865e+00  2e+00  1e-01  4e-01\n",
      " 4:  4.2917e+00  4.7255e+00  8e-01  4e-02  1e-01\n",
      " 5:  4.7182e+00  4.9414e+00  3e-01  1e-02  4e-02\n",
      " 6:  5.0089e+00  5.0102e+00  2e-02  5e-04  1e-03\n",
      " 7:  5.0146e+00  5.0144e+00  5e-04  9e-06  2e-05\n",
      " 8:  5.0147e+00  5.0146e+00  2e-05  9e-08  3e-07\n",
      " 9:  5.0147e+00  5.0147e+00  3e-07  9e-10  2e-09\n",
      "Optimal solution found.\n",
      "     pcost       dcost       gap    pres   dres\n",
      " 0:  1.9471e+00  1.9881e+00  6e+01  5e+00  2e+01\n",
      " 1:  2.4075e+00  2.4095e+00  8e+00  8e-01  2e+00\n",
      " 2:  3.4771e+00  3.4449e+00  3e+00  2e-01  6e-01\n",
      " 3:  3.7985e+00  4.0742e+00  2e+00  1e-01  4e-01\n",
      " 4:  4.3760e+00  4.8743e+00  8e-01  5e-02  1e-01\n",
      " 5:  4.9515e+00  5.1459e+00  2e-01  1e-02  3e-02\n",
      " 6:  5.1993e+00  5.1966e+00  6e-03  7e-05  2e-04\n",
      " 7:  5.1985e+00  5.1983e+00  2e-04  1e-06  3e-06\n",
      " 8:  5.1984e+00  5.1984e+00  8e-06  1e-08  3e-08\n",
      " 9:  5.1984e+00  5.1984e+00  8e-08  1e-10  3e-10\n",
      "Optimal solution found.\n",
      "     pcost       dcost       gap    pres   dres\n",
      " 0:  1.9487e+00  2.0176e+00  6e+01  5e+00  2e+01\n",
      " 1:  2.4189e+00  2.4422e+00  8e+00  8e-01  2e+00\n",
      " 2:  3.5115e+00  3.5018e+00  3e+00  2e-01  6e-01\n",
      " 3:  3.8424e+00  4.1655e+00  2e+00  1e-01  4e-01\n",
      " 4:  4.4646e+00  5.0309e+00  8e-01  5e-02  1e-01\n",
      " 5:  5.1243e+00  5.3376e+00  3e-01  1e-02  3e-02\n",
      " 6:  5.3920e+00  5.3913e+00  6e-03  1e-04  3e-04\n",
      " 7:  5.3931e+00  5.3931e+00  1e-04  1e-06  4e-06\n",
      " 8:  5.3931e+00  5.3931e+00  1e-06  1e-08  4e-08\n",
      "Optimal solution found.\n",
      "     pcost       dcost       gap    pres   dres\n",
      " 0:  1.9503e+00  2.0475e+00  6e+01  5e+00  2e+01\n",
      " 1:  2.4307e+00  2.4757e+00  9e+00  8e-01  2e+00\n",
      " 2:  3.5468e+00  3.5610e+00  3e+00  2e-01  7e-01\n",
      " 3:  3.8877e+00  4.2604e+00  2e+00  1e-01  4e-01\n",
      " 4:  4.5575e+00  5.1953e+00  8e-01  5e-02  1e-01\n",
      " 5:  5.3174e+00  5.5394e+00  3e-01  1e-02  3e-02\n",
      " 6:  5.5958e+00  5.5968e+00  7e-03  2e-04  4e-04\n",
      " 7:  5.5989e+00  5.5989e+00  7e-05  2e-06  5e-06\n",
      " 8:  5.5990e+00  5.5990e+00  7e-07  2e-08  5e-08\n",
      "Optimal solution found.\n",
      "     pcost       dcost       gap    pres   dres\n",
      " 0:  1.9520e+00  2.0778e+00  6e+01  5e+00  2e+01\n",
      " 1:  2.4429e+00  2.5103e+00  9e+00  8e-01  2e+00\n",
      " 2:  3.5832e+00  3.6225e+00  3e+00  2e-01  7e-01\n",
      " 3:  3.9343e+00  4.3589e+00  2e+00  1e-01  4e-01\n",
      " 4:  4.6396e+00  5.3557e+00  9e-01  5e-02  1e-01\n",
      " 5:  5.5425e+00  5.7555e+00  4e-01  1e-02  3e-02\n",
      " 6:  5.8120e+00  5.8134e+00  8e-03  2e-04  5e-04\n",
      " 7:  5.8160e+00  5.8160e+00  9e-05  2e-06  5e-06\n",
      " 8:  5.8160e+00  5.8160e+00  9e-07  2e-08  5e-08\n",
      "Optimal solution found.\n",
      "     pcost       dcost       gap    pres   dres\n",
      " 0:  1.9537e+00  2.1085e+00  6e+01  5e+00  2e+01\n",
      " 1:  2.4555e+00  2.5457e+00  9e+00  8e-01  2e+00\n",
      " 2:  3.6204e+00  3.6860e+00  3e+00  2e-01  7e-01\n",
      " 3:  3.9822e+00  4.4610e+00  2e+00  2e-01  4e-01\n",
      " 4:  4.7074e+00  5.5087e+00  1e+00  5e-02  2e-01\n",
      " 5:  5.7295e+00  5.9774e+00  4e-01  1e-02  4e-02\n",
      " 6:  6.0398e+00  6.0413e+00  9e-03  2e-04  5e-04\n",
      " 7:  6.0442e+00  6.0441e+00  2e-04  2e-06  6e-06\n",
      " 8:  6.0442e+00  6.0442e+00  2e-06  2e-08  6e-08\n",
      "Optimal solution found.\n",
      "     pcost       dcost       gap    pres   dres\n",
      " 0:  1.9554e+00  2.1395e+00  6e+01  5e+00  2e+01\n",
      " 1:  2.4686e+00  2.5822e+00  9e+00  8e-01  2e+00\n",
      " 2:  3.6586e+00  3.7518e+00  3e+00  2e-01  7e-01\n",
      " 3:  4.0313e+00  4.5666e+00  3e+00  2e-01  4e-01\n",
      " 4:  4.7757e+00  5.6659e+00  1e+00  6e-02  2e-01\n",
      " 5:  5.8406e+00  6.1970e+00  5e-01  2e-02  5e-02\n",
      " 6:  6.2759e+00  6.2815e+00  1e-02  3e-04  8e-04\n",
      " 7:  6.2841e+00  6.2842e+00  2e-04  3e-06  9e-06\n",
      " 8:  6.2842e+00  6.2842e+00  2e-06  3e-08  9e-08\n",
      "Optimal solution found.\n",
      "     pcost       dcost       gap    pres   dres\n",
      " 0:  1.9572e+00  2.1710e+00  6e+01  5e+00  2e+01\n",
      " 1:  2.4820e+00  2.6196e+00  9e+00  8e-01  2e+00\n",
      " 2:  3.6977e+00  3.8196e+00  3e+00  2e-01  7e-01\n",
      " 3:  4.0817e+00  4.6758e+00  3e+00  2e-01  5e-01\n",
      " 4:  4.8447e+00  5.8272e+00  1e+00  6e-02  2e-01\n",
      " 5:  5.9519e+00  6.4251e+00  6e-01  2e-02  6e-02\n",
      " 6:  6.3870e+00  6.5202e+00  2e-01  5e-03  1e-02\n",
      " 7:  6.5532e+00  6.5427e+00  1e-02  2e-05  6e-05\n",
      " 8:  6.5449e+00  6.5448e+00  1e-04  2e-07  6e-07\n",
      " 9:  6.5448e+00  6.5448e+00  1e-06  2e-09  6e-09\n",
      "Optimal solution found.\n",
      "     pcost       dcost       gap    pres   dres\n",
      " 0:  1.9590e+00  2.2028e+00  6e+01  5e+00  2e+01\n",
      " 1:  2.4960e+00  2.6579e+00  9e+00  8e-01  2e+00\n",
      " 2:  3.7375e+00  3.8895e+00  3e+00  3e-01  7e-01\n",
      " 3:  4.1333e+00  4.7884e+00  3e+00  2e-01  5e-01\n",
      " 4:  4.9124e+00  5.9908e+00  1e+00  7e-02  2e-01\n",
      " 5:  6.0600e+00  6.6614e+00  7e-01  2e-02  6e-02\n",
      " 6:  6.5067e+00  6.7761e+00  3e-01  9e-03  2e-02\n",
      " 7:  6.8495e+00  6.8234e+00  3e-02  6e-05  2e-04\n",
      " 8:  6.8294e+00  6.8290e+00  4e-04  6e-07  2e-06\n",
      " 9:  6.8291e+00  6.8291e+00  4e-06  6e-09  2e-08\n",
      "Optimal solution found.\n",
      "     pcost       dcost       gap    pres   dres\n",
      " 0:  1.9609e+00  2.2351e+00  6e+01  5e+00  2e+01\n",
      " 1:  2.5103e+00  2.6972e+00  9e+00  8e-01  2e+00\n",
      " 2:  3.7781e+00  3.9615e+00  3e+00  3e-01  7e-01\n",
      " 3:  4.1860e+00  4.9046e+00  3e+00  2e-01  5e-01\n",
      " 4:  4.9779e+00  6.1554e+00  1e+00  7e-02  2e-01\n",
      " 5:  6.1625e+00  6.9053e+00  8e-01  3e-02  7e-02\n",
      " 6:  6.6613e+00  7.0560e+00  4e-01  1e-02  3e-02\n",
      " 7:  7.1583e+00  7.1300e+00  4e-02  1e-04  3e-04\n",
      " 8:  7.1372e+00  7.1369e+00  4e-04  1e-06  3e-06\n",
      " 9:  7.1370e+00  7.1370e+00  4e-06  1e-08  3e-08\n",
      "Optimal solution found.\n",
      "     pcost       dcost       gap    pres   dres\n",
      " 0:  1.9628e+00  2.2677e+00  6e+01  5e+00  2e+01\n",
      " 1:  2.5251e+00  2.7375e+00  9e+00  8e-01  2e+00\n",
      " 2:  3.8195e+00  4.0354e+00  4e+00  3e-01  7e-01\n",
      " 3:  4.2398e+00  5.0243e+00  3e+00  2e-01  5e-01\n",
      " 4:  5.0455e+00  6.3249e+00  1e+00  7e-02  2e-01\n",
      " 5:  6.2652e+00  7.1565e+00  9e-01  3e-02  8e-02\n",
      " 6:  6.8962e+00  7.3727e+00  5e-01  1e-02  4e-02\n",
      " 7:  7.4789e+00  7.4629e+00  2e-02  1e-04  3e-04\n",
      " 8:  7.4686e+00  7.4684e+00  3e-04  1e-06  3e-06\n",
      " 9:  7.4685e+00  7.4685e+00  3e-06  1e-08  3e-08\n",
      "Optimal solution found.\n",
      "     pcost       dcost       gap    pres   dres\n",
      " 0:  1.9648e+00  2.3007e+00  6e+01  5e+00  2e+01\n",
      " 1:  2.5404e+00  2.7787e+00  9e+00  8e-01  2e+00\n",
      " 2:  3.8617e+00  4.1114e+00  4e+00  3e-01  8e-01\n",
      " 3:  4.2948e+00  5.1474e+00  3e+00  2e-01  5e-01\n",
      " 4:  5.1153e+00  6.4994e+00  2e+00  8e-02  2e-01\n",
      " 5:  6.3681e+00  7.4150e+00  1e+00  3e-02  9e-02\n",
      " 6:  7.4093e+00  7.7655e+00  4e-01  8e-03  2e-02\n",
      " 7:  7.8212e+00  7.8211e+00  8e-03  8e-05  2e-04\n",
      " 8:  7.8236e+00  7.8236e+00  8e-05  8e-07  2e-06\n",
      " 9:  7.8236e+00  7.8236e+00  8e-07  8e-09  2e-08\n",
      "Optimal solution found.\n",
      "     pcost       dcost       gap    pres   dres\n",
      " 0:  1.9668e+00  2.3341e+00  6e+01  5e+00  2e+01\n",
      " 1:  2.5561e+00  2.8209e+00  9e+00  8e-01  2e+00\n",
      " 2:  3.9045e+00  4.1893e+00  4e+00  3e-01  8e-01\n",
      " 3:  4.3509e+00  5.2741e+00  3e+00  2e-01  5e-01\n",
      " 4:  5.1873e+00  6.6790e+00  2e+00  8e-02  2e-01\n",
      " 5:  6.4713e+00  7.6809e+00  1e+00  4e-02  1e-01\n",
      " 6:  7.8930e+00  8.1612e+00  3e-01  6e-03  2e-02\n",
      " 7:  8.2003e+00  8.2009e+00  6e-03  6e-05  2e-04\n",
      " 8:  8.2023e+00  8.2023e+00  6e-05  7e-07  2e-06\n",
      " 9:  8.2024e+00  8.2024e+00  6e-07  7e-09  2e-08\n",
      "Optimal solution found.\n",
      "     pcost       dcost       gap    pres   dres\n",
      " 0:  1.9688e+00  2.3679e+00  6e+01  5e+00  2e+01\n",
      " 1:  2.5722e+00  2.8641e+00  9e+00  8e-01  2e+00\n",
      " 2:  3.9480e+00  4.2691e+00  4e+00  3e-01  8e-01\n",
      " 3:  4.4080e+00  5.4042e+00  3e+00  2e-01  5e-01\n",
      " 4:  5.2614e+00  6.8637e+00  2e+00  8e-02  2e-01\n",
      " 5:  6.5749e+00  7.9539e+00  1e+00  4e-02  1e-01\n",
      " 6:  8.1700e+00  8.5542e+00  5e-01  8e-03  2e-02\n",
      " 7:  8.5862e+00  8.6019e+00  3e-02  4e-04  1e-03\n",
      " 8:  8.6060e+00  8.6061e+00  4e-04  4e-06  1e-05\n",
      " 9:  8.6061e+00  8.6061e+00  4e-06  4e-08  1e-07\n",
      "10:  8.6061e+00  8.6061e+00  4e-08  4e-10  1e-09\n",
      "Optimal solution found.\n",
      "     pcost       dcost       gap    pres   dres\n",
      " 0:  1.9709e+00  2.4021e+00  6e+01  5e+00  2e+01\n",
      " 1:  2.5889e+00  2.9082e+00  9e+00  8e-01  2e+00\n",
      " 2:  3.9922e+00  4.3508e+00  4e+00  3e-01  8e-01\n",
      " 3:  4.4661e+00  5.5377e+00  3e+00  2e-01  5e-01\n",
      " 4:  5.3377e+00  7.0536e+00  2e+00  9e-02  3e-01\n",
      " 5:  6.6790e+00  8.2342e+00  1e+00  4e-02  1e-01\n",
      " 6:  8.1645e+00  8.9343e+00  9e-01  1e-02  4e-02\n",
      " 7:  8.6379e+00  9.0204e+00  5e-01  7e-03  2e-02\n",
      " 8:  8.8913e+00  9.0726e+00  2e-01  3e-03  8e-03\n",
      " 9:  9.0865e+00  9.1107e+00  1e-02  2e-04  6e-04\n",
      "10:  9.1130e+00  9.1133e+00  2e-04  2e-06  6e-06\n",
      "11:  9.1133e+00  9.1133e+00  2e-06  2e-08  6e-08\n",
      "Optimal solution found.\n",
      "     pcost       dcost       gap    pres   dres\n",
      " 0:  1.9730e+00  2.4366e+00  6e+01  5e+00  2e+01\n",
      " 1:  2.6060e+00  2.9533e+00  9e+00  8e-01  2e+00\n",
      " 2:  4.0371e+00  4.4345e+00  4e+00  3e-01  8e-01\n",
      " 3:  4.5254e+00  5.6748e+00  3e+00  2e-01  5e-01\n",
      " 4:  5.4161e+00  7.2487e+00  2e+00  9e-02  3e-01\n",
      " 5:  6.7835e+00  8.5216e+00  1e+00  4e-02  1e-01\n",
      " 6:  8.2174e+00  9.3255e+00  1e+00  2e-02  6e-02\n",
      " 7:  8.6723e+00  9.4842e+00  9e-01  1e-02  4e-02\n",
      " 8:  9.0579e+00  9.6652e+00  6e-01  6e-03  2e-02\n",
      " 9:  9.7038e+00  9.8952e+00  4e-02  8e-04  2e-03\n",
      "10:  9.9112e+00  9.9127e+00  9e-04  8e-06  2e-05\n",
      "11:  9.9128e+00  9.9128e+00  9e-06  8e-08  2e-07\n",
      "12:  9.9128e+00  9.9128e+00  9e-08  8e-10  2e-09\n",
      "Optimal solution found.\n",
      "     pcost       dcost       gap    pres   dres\n",
      " 0:  1.9751e+00  2.4716e+00  6e+01  5e+00  2e+01\n",
      " 1:  2.6236e+00  2.9994e+00  9e+00  8e-01  2e+00\n",
      " 2:  4.0826e+00  4.5199e+00  4e+00  3e-01  8e-01\n",
      " 3:  4.5856e+00  5.8153e+00  3e+00  2e-01  5e-01\n",
      " 4:  5.4968e+00  7.4492e+00  2e+00  9e-02  3e-01\n",
      " 5:  6.8886e+00  8.8163e+00  1e+00  5e-02  1e-01\n",
      " 6:  8.3155e+00  9.7305e+00  1e+00  2e-02  7e-02\n",
      " 7:  8.7615e+00  9.9767e+00  1e+00  2e-02  5e-02\n",
      " 8:  9.2471e+00  1.0366e+01  8e-01  9e-03  3e-02\n",
      " 9:  1.0476e+01  1.0970e+01  1e-01  2e-03  5e-03\n",
      "10:  1.1016e+01  1.1019e+01  4e-03  2e-05  4e-05\n",
      "11:  1.1019e+01  1.1020e+01  4e-05  2e-07  4e-07\n",
      "12:  1.1020e+01  1.1020e+01  4e-07  2e-09  4e-09\n",
      "Optimal solution found.\n",
      "     pcost       dcost       gap    pres   dres\n",
      " 0:  1.9773e+00  2.5069e+00  6e+01  5e+00  2e+01\n",
      " 1:  2.6417e+00  3.0464e+00  9e+00  8e-01  2e+00\n",
      " 2:  4.1289e+00  4.6073e+00  4e+00  3e-01  8e-01\n",
      " 3:  4.6469e+00  5.9592e+00  3e+00  2e-01  5e-01\n",
      " 4:  5.5796e+00  7.6550e+00  2e+00  1e-01  3e-01\n",
      " 5:  6.9943e+00  9.1183e+00  2e+00  5e-02  1e-01\n",
      " 6:  8.4498e+00  1.0150e+01  2e+00  3e-02  8e-02\n",
      " 7:  8.8792e+00  1.0494e+01  1e+00  2e-02  6e-02\n",
      " 8:  9.4620e+00  1.1182e+01  1e+00  1e-02  3e-02\n",
      " 9:  1.1511e+01  1.2352e+01  2e-01  2e-03  6e-03\n",
      "10:  1.2429e+01  1.2433e+01  8e-03  2e-05  6e-05\n",
      "11:  1.2433e+01  1.2433e+01  8e-05  2e-07  6e-07\n",
      "12:  1.2433e+01  1.2433e+01  8e-07  2e-09  6e-09\n",
      "Optimal solution found.\n",
      "     pcost       dcost       gap    pres   dres\n",
      " 0:  1.9796e+00  2.5427e+00  6e+01  5e+00  2e+01\n",
      " 1:  2.6602e+00  3.0945e+00  9e+00  8e-01  2e+00\n",
      " 2:  4.1757e+00  4.6964e+00  4e+00  3e-01  8e-01\n",
      " 3:  4.7091e+00  6.1066e+00  3e+00  2e-01  6e-01\n",
      " 4:  5.6646e+00  7.8664e+00  2e+00  1e-01  3e-01\n",
      " 5:  7.0953e+00  9.4242e+00  2e+00  5e-02  2e-01\n",
      " 6:  8.5974e+00  1.0582e+01  2e+00  3e-02  9e-02\n",
      " 7:  9.0117e+00  1.1034e+01  2e+00  2e-02  7e-02\n",
      " 8:  9.7052e+00  1.2131e+01  1e+00  1e-02  4e-02\n",
      " 9:  1.2982e+01  1.4070e+01  4e-01  2e-03  7e-03\n",
      "10:  1.4146e+01  1.4153e+01  1e-02  2e-05  7e-05\n",
      "11:  1.4154e+01  1.4154e+01  1e-04  2e-07  7e-07\n",
      "12:  1.4154e+01  1.4154e+01  1e-06  2e-09  7e-09\n",
      "Optimal solution found.\n",
      "     pcost       dcost       gap    pres   dres\n",
      " 0:  1.9818e+00  2.5788e+00  6e+01  5e+00  2e+01\n",
      " 1:  2.6793e+00  3.1435e+00  9e+00  8e-01  2e+00\n",
      " 2:  4.2232e+00  4.7874e+00  4e+00  3e-01  8e-01\n",
      " 3:  4.7724e+00  6.2575e+00  3e+00  2e-01  6e-01\n",
      " 4:  5.7520e+00  8.0834e+00  2e+00  1e-01  3e-01\n",
      " 5:  7.1753e+00  9.7218e+00  2e+00  6e-02  2e-01\n",
      " 6:  8.6922e+00  1.1014e+01  2e+00  3e-02  1e-01\n",
      " 7:  9.1306e+00  1.1592e+01  2e+00  3e-02  8e-02\n",
      " 8:  9.9571e+00  1.3197e+01  1e+00  2e-02  5e-02\n",
      " 9:  1.4970e+01  1.6125e+01  7e-01  3e-03  7e-03\n",
      "10:  1.5188e+01  1.6278e+01  7e-01  2e-03  6e-03\n",
      "11:  1.6151e+01  1.7021e+01  4e-01  7e-04  2e-03\n",
      "12:  1.7174e+01  1.7181e+01  3e-02  1e-05  4e-05\n",
      "13:  1.7181e+01  1.7181e+01  4e-04  2e-07  6e-07\n",
      "14:  1.7181e+01  1.7181e+01  4e-06  2e-09  6e-09\n",
      "Optimal solution found.\n"
     ]
    }
   ],
   "source": [
    "%time\n",
    "tvols = []\n",
    "for tret in trets:\n",
    "    h = matrix(np.r_[np.zeros(len(mean)), np.array(-tret, ndmin=1)])\n",
    "    sol = qp(P=P, q=q, G=G, h=h, A=A, b=b)\n",
    "    tvols.append(np.sqrt(2 * sol['primal objective']))\n",
    "tvols = np.array(tvols)"
   ]
  },
  {
   "cell_type": "markdown",
   "metadata": {
    "collapsed": false
   },
   "source": [
    "効率的フロンティアを描きます．"
   ]
  },
  {
   "cell_type": "code",
   "execution_count": null,
   "metadata": {
    "collapsed": false
   },
   "outputs": [],
   "source": [
    "plt.figure(figsize=(10, 6))\n",
    "plt.scatter(tvols, trets, c=trets/tvols, marker='x')\n",
    "plt.grid(True)\n",
    "plt.xlabel('expected volatility')\n",
    "plt.ylabel('expected return')"
   ]
  },
  {
   "cell_type": "markdown",
   "metadata": {
    "collapsed": true
   },
   "source": [
    "### SciPyとの比較"
   ]
  },
  {
   "cell_type": "markdown",
   "metadata": {
    "collapsed": true
   },
   "source": [
    "決定変数30個だけですが，CVXOPTのほうがかなり速いです．\n",
    "\n",
    "| 計測方法 |SciPy  |CVXOPT  |\n",
    "|---|---|---|\n",
    "|%%time |  65.8ms|  6.16ms|\n",
    "|%%timeit |  44.6ms|  4.49ms|"
   ]
  },
  {
   "cell_type": "markdown",
   "metadata": {},
   "source": [
    "## 参考"
   ]
  },
  {
   "cell_type": "markdown",
   "metadata": {},
   "source": [
    "- [CVXOPT User's Guide](http://cvxopt.org/userguide/index.html)"
   ]
  },
  {
   "cell_type": "code",
   "execution_count": null,
   "metadata": {
    "collapsed": true
   },
   "outputs": [],
   "source": []
  }
 ],
 "metadata": {
  "kernelspec": {
   "display_name": "Python 3",
   "language": "python",
   "name": "python3"
  },
  "language_info": {
   "codemirror_mode": {
    "name": "ipython",
    "version": 3
   },
   "file_extension": ".py",
   "mimetype": "text/x-python",
   "name": "python",
   "nbconvert_exporter": "python",
   "pygments_lexer": "ipython3",
   "version": "3.6.0"
  }
 },
 "nbformat": 4,
 "nbformat_minor": 2
}
